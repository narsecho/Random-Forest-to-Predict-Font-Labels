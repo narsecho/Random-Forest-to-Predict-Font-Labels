{
  "nbformat": 4,
  "nbformat_minor": 0,
  "metadata": {
    "colab": {
      "name": "Random-Forest-to-Predict-Font-Labels.ipynb",
      "provenance": [],
      "collapsed_sections": []
    },
    "kernelspec": {
      "name": "python3",
      "display_name": "Python 3"
    },
    "language_info": {
      "name": "python"
    }
  },
  "cells": [
    {
      "cell_type": "code",
      "metadata": {
        "id": "tw8o-9HAhyJp",
        "colab": {
          "base_uri": "https://localhost:8080/",
          "height": 39
        },
        "outputId": "b30fd964-45e9-410f-9129-80986e575e5b"
      },
      "source": [
        "%%html\n",
        "<marquee style='width: 30%; color: yellow;'><b>Random-Forest-to-Predict-Font-Labels</b></marquee>"
      ],
      "execution_count": 1,
      "outputs": [
        {
          "output_type": "display_data",
          "data": {
            "text/html": [
              "<marquee style='width: 30%; color: yellow;'><b>Random-Forest-to-Predict-Font-Labels</b></marquee>"
            ],
            "text/plain": [
              "<IPython.core.display.HTML object>"
            ]
          },
          "metadata": {}
        }
      ]
    },
    {
      "cell_type": "code",
      "metadata": {
        "id": "SaYWhSBjLgu7"
      },
      "source": [
        "import numpy as np\n",
        "import pandas as pd\n",
        "import tensorflow as tf"
      ],
      "execution_count": 2,
      "outputs": []
    },
    {
      "cell_type": "code",
      "metadata": {
        "id": "8TrtGfqwLuH3",
        "colab": {
          "base_uri": "https://localhost:8080/"
        },
        "outputId": "15934a97-d4b1-443b-a61b-80bbddea4f69"
      },
      "source": [
        "from google.colab import drive\n",
        "drive.mount('/content/drive')"
      ],
      "execution_count": null,
      "outputs": [
        {
          "output_type": "stream",
          "name": "stdout",
          "text": [
            "Mounted at /content/drive\n"
          ]
        }
      ]
    },
    {
      "cell_type": "markdown",
      "metadata": {
        "id": "PrAqajLoR8OH"
      },
      "source": [
        "#**Preliminary Data Processing**#\n",
        "**Data set G = same 4 fonts used in KNN: 4 Classes CL1 CL2 CL3 CL4**\n"
      ]
    },
    {
      "cell_type": "code",
      "metadata": {
        "id": "YuhOoEhxE7ji"
      },
      "source": [
        "df_bodoni=pd.read_csv('/content/drive/MyDrive/KNN_font/BODONI.csv',delimiter=',')\n",
        "df_eras=pd.read_csv('/content/drive/MyDrive/KNN_font/ERAS.csv',delimiter=',')\n",
        "df_gabriola=pd.read_csv('/content/drive/MyDrive/KNN_font/GABRIOLA.csv',delimiter=',')\n",
        "df_technic=pd.read_csv('/content/drive/MyDrive/KNN_font/TECHNIC.csv',delimiter=',')"
      ],
      "execution_count": null,
      "outputs": []
    },
    {
      "cell_type": "code",
      "metadata": {
        "colab": {
          "base_uri": "https://localhost:8080/"
        },
        "id": "p2S_0IeKN9qV",
        "outputId": "9881e9c5-4b63-4665-c16c-85d4bf217806"
      },
      "source": [
        "print(df_bodoni.shape,df_eras.shape,df_gabriola.shape,df_technic.shape)"
      ],
      "execution_count": null,
      "outputs": [
        {
          "output_type": "stream",
          "name": "stdout",
          "text": [
            "(3964, 412) (3904, 412) (3512, 412) (5520, 412)\n"
          ]
        }
      ]
    },
    {
      "cell_type": "code",
      "metadata": {
        "id": "Ics-Ns-IlM4g",
        "colab": {
          "base_uri": "https://localhost:8080/",
          "height": 609
        },
        "outputId": "b8eb0a9b-228f-4b0e-9f87-64e3721d4fa5"
      },
      "source": [
        "df_bodoni"
      ],
      "execution_count": null,
      "outputs": [
        {
          "output_type": "execute_result",
          "data": {
            "text/html": [
              "<div>\n",
              "<style scoped>\n",
              "    .dataframe tbody tr th:only-of-type {\n",
              "        vertical-align: middle;\n",
              "    }\n",
              "\n",
              "    .dataframe tbody tr th {\n",
              "        vertical-align: top;\n",
              "    }\n",
              "\n",
              "    .dataframe thead th {\n",
              "        text-align: right;\n",
              "    }\n",
              "</style>\n",
              "<table border=\"1\" class=\"dataframe\">\n",
              "  <thead>\n",
              "    <tr style=\"text-align: right;\">\n",
              "      <th></th>\n",
              "      <th>font</th>\n",
              "      <th>fontVariant</th>\n",
              "      <th>m_label</th>\n",
              "      <th>strength</th>\n",
              "      <th>italic</th>\n",
              "      <th>orientation</th>\n",
              "      <th>m_top</th>\n",
              "      <th>m_left</th>\n",
              "      <th>originalH</th>\n",
              "      <th>originalW</th>\n",
              "      <th>h</th>\n",
              "      <th>w</th>\n",
              "      <th>r0c0</th>\n",
              "      <th>r0c1</th>\n",
              "      <th>r0c2</th>\n",
              "      <th>r0c3</th>\n",
              "      <th>r0c4</th>\n",
              "      <th>r0c5</th>\n",
              "      <th>r0c6</th>\n",
              "      <th>r0c7</th>\n",
              "      <th>r0c8</th>\n",
              "      <th>r0c9</th>\n",
              "      <th>r0c10</th>\n",
              "      <th>r0c11</th>\n",
              "      <th>r0c12</th>\n",
              "      <th>r0c13</th>\n",
              "      <th>r0c14</th>\n",
              "      <th>r0c15</th>\n",
              "      <th>r0c16</th>\n",
              "      <th>r0c17</th>\n",
              "      <th>r0c18</th>\n",
              "      <th>r0c19</th>\n",
              "      <th>r1c0</th>\n",
              "      <th>r1c1</th>\n",
              "      <th>r1c2</th>\n",
              "      <th>r1c3</th>\n",
              "      <th>r1c4</th>\n",
              "      <th>r1c5</th>\n",
              "      <th>r1c6</th>\n",
              "      <th>r1c7</th>\n",
              "      <th>...</th>\n",
              "      <th>r18c0</th>\n",
              "      <th>r18c1</th>\n",
              "      <th>r18c2</th>\n",
              "      <th>r18c3</th>\n",
              "      <th>r18c4</th>\n",
              "      <th>r18c5</th>\n",
              "      <th>r18c6</th>\n",
              "      <th>r18c7</th>\n",
              "      <th>r18c8</th>\n",
              "      <th>r18c9</th>\n",
              "      <th>r18c10</th>\n",
              "      <th>r18c11</th>\n",
              "      <th>r18c12</th>\n",
              "      <th>r18c13</th>\n",
              "      <th>r18c14</th>\n",
              "      <th>r18c15</th>\n",
              "      <th>r18c16</th>\n",
              "      <th>r18c17</th>\n",
              "      <th>r18c18</th>\n",
              "      <th>r18c19</th>\n",
              "      <th>r19c0</th>\n",
              "      <th>r19c1</th>\n",
              "      <th>r19c2</th>\n",
              "      <th>r19c3</th>\n",
              "      <th>r19c4</th>\n",
              "      <th>r19c5</th>\n",
              "      <th>r19c6</th>\n",
              "      <th>r19c7</th>\n",
              "      <th>r19c8</th>\n",
              "      <th>r19c9</th>\n",
              "      <th>r19c10</th>\n",
              "      <th>r19c11</th>\n",
              "      <th>r19c12</th>\n",
              "      <th>r19c13</th>\n",
              "      <th>r19c14</th>\n",
              "      <th>r19c15</th>\n",
              "      <th>r19c16</th>\n",
              "      <th>r19c17</th>\n",
              "      <th>r19c18</th>\n",
              "      <th>r19c19</th>\n",
              "    </tr>\n",
              "  </thead>\n",
              "  <tbody>\n",
              "    <tr>\n",
              "      <th>0</th>\n",
              "      <td>BODONI</td>\n",
              "      <td>BODONI MT POSTER COMPRESSED</td>\n",
              "      <td>64258</td>\n",
              "      <td>0.4</td>\n",
              "      <td>0</td>\n",
              "      <td>0.0</td>\n",
              "      <td>33</td>\n",
              "      <td>20</td>\n",
              "      <td>49</td>\n",
              "      <td>20</td>\n",
              "      <td>20</td>\n",
              "      <td>20</td>\n",
              "      <td>1</td>\n",
              "      <td>1</td>\n",
              "      <td>1</td>\n",
              "      <td>1</td>\n",
              "      <td>1</td>\n",
              "      <td>47</td>\n",
              "      <td>47</td>\n",
              "      <td>151</td>\n",
              "      <td>209</td>\n",
              "      <td>105</td>\n",
              "      <td>105</td>\n",
              "      <td>105</td>\n",
              "      <td>255</td>\n",
              "      <td>255</td>\n",
              "      <td>255</td>\n",
              "      <td>255</td>\n",
              "      <td>255</td>\n",
              "      <td>255</td>\n",
              "      <td>1</td>\n",
              "      <td>1</td>\n",
              "      <td>1</td>\n",
              "      <td>1</td>\n",
              "      <td>1</td>\n",
              "      <td>1</td>\n",
              "      <td>94</td>\n",
              "      <td>255</td>\n",
              "      <td>255</td>\n",
              "      <td>58</td>\n",
              "      <td>...</td>\n",
              "      <td>1</td>\n",
              "      <td>1</td>\n",
              "      <td>255</td>\n",
              "      <td>255</td>\n",
              "      <td>255</td>\n",
              "      <td>255</td>\n",
              "      <td>255</td>\n",
              "      <td>255</td>\n",
              "      <td>1</td>\n",
              "      <td>1</td>\n",
              "      <td>1</td>\n",
              "      <td>1</td>\n",
              "      <td>255</td>\n",
              "      <td>255</td>\n",
              "      <td>255</td>\n",
              "      <td>255</td>\n",
              "      <td>255</td>\n",
              "      <td>255</td>\n",
              "      <td>1</td>\n",
              "      <td>1</td>\n",
              "      <td>105</td>\n",
              "      <td>105</td>\n",
              "      <td>255</td>\n",
              "      <td>255</td>\n",
              "      <td>255</td>\n",
              "      <td>255</td>\n",
              "      <td>255</td>\n",
              "      <td>255</td>\n",
              "      <td>105</td>\n",
              "      <td>1</td>\n",
              "      <td>1</td>\n",
              "      <td>105</td>\n",
              "      <td>255</td>\n",
              "      <td>255</td>\n",
              "      <td>255</td>\n",
              "      <td>255</td>\n",
              "      <td>255</td>\n",
              "      <td>255</td>\n",
              "      <td>105</td>\n",
              "      <td>105</td>\n",
              "    </tr>\n",
              "    <tr>\n",
              "      <th>1</th>\n",
              "      <td>BODONI</td>\n",
              "      <td>BODONI MT POSTER COMPRESSED</td>\n",
              "      <td>64257</td>\n",
              "      <td>0.4</td>\n",
              "      <td>0</td>\n",
              "      <td>0.0</td>\n",
              "      <td>33</td>\n",
              "      <td>20</td>\n",
              "      <td>49</td>\n",
              "      <td>20</td>\n",
              "      <td>20</td>\n",
              "      <td>20</td>\n",
              "      <td>1</td>\n",
              "      <td>1</td>\n",
              "      <td>1</td>\n",
              "      <td>1</td>\n",
              "      <td>1</td>\n",
              "      <td>1</td>\n",
              "      <td>47</td>\n",
              "      <td>151</td>\n",
              "      <td>151</td>\n",
              "      <td>209</td>\n",
              "      <td>105</td>\n",
              "      <td>105</td>\n",
              "      <td>105</td>\n",
              "      <td>105</td>\n",
              "      <td>105</td>\n",
              "      <td>151</td>\n",
              "      <td>151</td>\n",
              "      <td>47</td>\n",
              "      <td>1</td>\n",
              "      <td>1</td>\n",
              "      <td>1</td>\n",
              "      <td>1</td>\n",
              "      <td>1</td>\n",
              "      <td>1</td>\n",
              "      <td>94</td>\n",
              "      <td>198</td>\n",
              "      <td>255</td>\n",
              "      <td>162</td>\n",
              "      <td>...</td>\n",
              "      <td>1</td>\n",
              "      <td>1</td>\n",
              "      <td>255</td>\n",
              "      <td>255</td>\n",
              "      <td>255</td>\n",
              "      <td>255</td>\n",
              "      <td>255</td>\n",
              "      <td>255</td>\n",
              "      <td>1</td>\n",
              "      <td>1</td>\n",
              "      <td>1</td>\n",
              "      <td>1</td>\n",
              "      <td>255</td>\n",
              "      <td>255</td>\n",
              "      <td>255</td>\n",
              "      <td>255</td>\n",
              "      <td>255</td>\n",
              "      <td>255</td>\n",
              "      <td>1</td>\n",
              "      <td>1</td>\n",
              "      <td>105</td>\n",
              "      <td>105</td>\n",
              "      <td>255</td>\n",
              "      <td>255</td>\n",
              "      <td>255</td>\n",
              "      <td>255</td>\n",
              "      <td>255</td>\n",
              "      <td>255</td>\n",
              "      <td>105</td>\n",
              "      <td>1</td>\n",
              "      <td>1</td>\n",
              "      <td>105</td>\n",
              "      <td>255</td>\n",
              "      <td>255</td>\n",
              "      <td>255</td>\n",
              "      <td>255</td>\n",
              "      <td>255</td>\n",
              "      <td>255</td>\n",
              "      <td>105</td>\n",
              "      <td>105</td>\n",
              "    </tr>\n",
              "    <tr>\n",
              "      <th>2</th>\n",
              "      <td>BODONI</td>\n",
              "      <td>BODONI MT POSTER COMPRESSED</td>\n",
              "      <td>9674</td>\n",
              "      <td>0.4</td>\n",
              "      <td>0</td>\n",
              "      <td>0.0</td>\n",
              "      <td>33</td>\n",
              "      <td>22</td>\n",
              "      <td>49</td>\n",
              "      <td>29</td>\n",
              "      <td>20</td>\n",
              "      <td>20</td>\n",
              "      <td>1</td>\n",
              "      <td>1</td>\n",
              "      <td>1</td>\n",
              "      <td>1</td>\n",
              "      <td>1</td>\n",
              "      <td>1</td>\n",
              "      <td>1</td>\n",
              "      <td>1</td>\n",
              "      <td>2</td>\n",
              "      <td>119</td>\n",
              "      <td>119</td>\n",
              "      <td>2</td>\n",
              "      <td>1</td>\n",
              "      <td>1</td>\n",
              "      <td>1</td>\n",
              "      <td>1</td>\n",
              "      <td>1</td>\n",
              "      <td>1</td>\n",
              "      <td>1</td>\n",
              "      <td>1</td>\n",
              "      <td>1</td>\n",
              "      <td>1</td>\n",
              "      <td>1</td>\n",
              "      <td>1</td>\n",
              "      <td>1</td>\n",
              "      <td>1</td>\n",
              "      <td>1</td>\n",
              "      <td>1</td>\n",
              "      <td>...</td>\n",
              "      <td>1</td>\n",
              "      <td>1</td>\n",
              "      <td>1</td>\n",
              "      <td>1</td>\n",
              "      <td>1</td>\n",
              "      <td>1</td>\n",
              "      <td>1</td>\n",
              "      <td>1</td>\n",
              "      <td>146</td>\n",
              "      <td>255</td>\n",
              "      <td>255</td>\n",
              "      <td>146</td>\n",
              "      <td>1</td>\n",
              "      <td>1</td>\n",
              "      <td>1</td>\n",
              "      <td>1</td>\n",
              "      <td>1</td>\n",
              "      <td>1</td>\n",
              "      <td>1</td>\n",
              "      <td>1</td>\n",
              "      <td>1</td>\n",
              "      <td>1</td>\n",
              "      <td>1</td>\n",
              "      <td>1</td>\n",
              "      <td>1</td>\n",
              "      <td>1</td>\n",
              "      <td>1</td>\n",
              "      <td>1</td>\n",
              "      <td>2</td>\n",
              "      <td>119</td>\n",
              "      <td>119</td>\n",
              "      <td>2</td>\n",
              "      <td>1</td>\n",
              "      <td>1</td>\n",
              "      <td>1</td>\n",
              "      <td>1</td>\n",
              "      <td>1</td>\n",
              "      <td>1</td>\n",
              "      <td>1</td>\n",
              "      <td>1</td>\n",
              "    </tr>\n",
              "    <tr>\n",
              "      <th>3</th>\n",
              "      <td>BODONI</td>\n",
              "      <td>BODONI MT POSTER COMPRESSED</td>\n",
              "      <td>8805</td>\n",
              "      <td>0.4</td>\n",
              "      <td>0</td>\n",
              "      <td>0.0</td>\n",
              "      <td>40</td>\n",
              "      <td>24</td>\n",
              "      <td>33</td>\n",
              "      <td>25</td>\n",
              "      <td>20</td>\n",
              "      <td>20</td>\n",
              "      <td>255</td>\n",
              "      <td>194</td>\n",
              "      <td>101</td>\n",
              "      <td>21</td>\n",
              "      <td>1</td>\n",
              "      <td>1</td>\n",
              "      <td>1</td>\n",
              "      <td>1</td>\n",
              "      <td>1</td>\n",
              "      <td>1</td>\n",
              "      <td>1</td>\n",
              "      <td>1</td>\n",
              "      <td>1</td>\n",
              "      <td>1</td>\n",
              "      <td>1</td>\n",
              "      <td>1</td>\n",
              "      <td>1</td>\n",
              "      <td>1</td>\n",
              "      <td>1</td>\n",
              "      <td>1</td>\n",
              "      <td>218</td>\n",
              "      <td>255</td>\n",
              "      <td>255</td>\n",
              "      <td>212</td>\n",
              "      <td>171</td>\n",
              "      <td>47</td>\n",
              "      <td>19</td>\n",
              "      <td>1</td>\n",
              "      <td>...</td>\n",
              "      <td>209</td>\n",
              "      <td>209</td>\n",
              "      <td>209</td>\n",
              "      <td>209</td>\n",
              "      <td>209</td>\n",
              "      <td>209</td>\n",
              "      <td>209</td>\n",
              "      <td>209</td>\n",
              "      <td>209</td>\n",
              "      <td>209</td>\n",
              "      <td>209</td>\n",
              "      <td>209</td>\n",
              "      <td>209</td>\n",
              "      <td>209</td>\n",
              "      <td>209</td>\n",
              "      <td>209</td>\n",
              "      <td>209</td>\n",
              "      <td>209</td>\n",
              "      <td>209</td>\n",
              "      <td>209</td>\n",
              "      <td>255</td>\n",
              "      <td>255</td>\n",
              "      <td>255</td>\n",
              "      <td>255</td>\n",
              "      <td>255</td>\n",
              "      <td>255</td>\n",
              "      <td>255</td>\n",
              "      <td>255</td>\n",
              "      <td>255</td>\n",
              "      <td>255</td>\n",
              "      <td>255</td>\n",
              "      <td>255</td>\n",
              "      <td>255</td>\n",
              "      <td>255</td>\n",
              "      <td>255</td>\n",
              "      <td>255</td>\n",
              "      <td>255</td>\n",
              "      <td>255</td>\n",
              "      <td>255</td>\n",
              "      <td>255</td>\n",
              "    </tr>\n",
              "    <tr>\n",
              "      <th>4</th>\n",
              "      <td>BODONI</td>\n",
              "      <td>BODONI MT POSTER COMPRESSED</td>\n",
              "      <td>8804</td>\n",
              "      <td>0.4</td>\n",
              "      <td>0</td>\n",
              "      <td>0.0</td>\n",
              "      <td>40</td>\n",
              "      <td>24</td>\n",
              "      <td>33</td>\n",
              "      <td>25</td>\n",
              "      <td>20</td>\n",
              "      <td>20</td>\n",
              "      <td>1</td>\n",
              "      <td>1</td>\n",
              "      <td>1</td>\n",
              "      <td>1</td>\n",
              "      <td>1</td>\n",
              "      <td>1</td>\n",
              "      <td>1</td>\n",
              "      <td>1</td>\n",
              "      <td>1</td>\n",
              "      <td>1</td>\n",
              "      <td>1</td>\n",
              "      <td>1</td>\n",
              "      <td>1</td>\n",
              "      <td>1</td>\n",
              "      <td>1</td>\n",
              "      <td>1</td>\n",
              "      <td>21</td>\n",
              "      <td>101</td>\n",
              "      <td>194</td>\n",
              "      <td>255</td>\n",
              "      <td>1</td>\n",
              "      <td>1</td>\n",
              "      <td>1</td>\n",
              "      <td>1</td>\n",
              "      <td>1</td>\n",
              "      <td>1</td>\n",
              "      <td>1</td>\n",
              "      <td>1</td>\n",
              "      <td>...</td>\n",
              "      <td>209</td>\n",
              "      <td>209</td>\n",
              "      <td>209</td>\n",
              "      <td>209</td>\n",
              "      <td>209</td>\n",
              "      <td>209</td>\n",
              "      <td>209</td>\n",
              "      <td>209</td>\n",
              "      <td>209</td>\n",
              "      <td>209</td>\n",
              "      <td>209</td>\n",
              "      <td>209</td>\n",
              "      <td>209</td>\n",
              "      <td>209</td>\n",
              "      <td>209</td>\n",
              "      <td>209</td>\n",
              "      <td>209</td>\n",
              "      <td>209</td>\n",
              "      <td>209</td>\n",
              "      <td>209</td>\n",
              "      <td>255</td>\n",
              "      <td>255</td>\n",
              "      <td>255</td>\n",
              "      <td>255</td>\n",
              "      <td>255</td>\n",
              "      <td>255</td>\n",
              "      <td>255</td>\n",
              "      <td>255</td>\n",
              "      <td>255</td>\n",
              "      <td>255</td>\n",
              "      <td>255</td>\n",
              "      <td>255</td>\n",
              "      <td>255</td>\n",
              "      <td>255</td>\n",
              "      <td>255</td>\n",
              "      <td>255</td>\n",
              "      <td>255</td>\n",
              "      <td>255</td>\n",
              "      <td>255</td>\n",
              "      <td>255</td>\n",
              "    </tr>\n",
              "    <tr>\n",
              "      <th>...</th>\n",
              "      <td>...</td>\n",
              "      <td>...</td>\n",
              "      <td>...</td>\n",
              "      <td>...</td>\n",
              "      <td>...</td>\n",
              "      <td>...</td>\n",
              "      <td>...</td>\n",
              "      <td>...</td>\n",
              "      <td>...</td>\n",
              "      <td>...</td>\n",
              "      <td>...</td>\n",
              "      <td>...</td>\n",
              "      <td>...</td>\n",
              "      <td>...</td>\n",
              "      <td>...</td>\n",
              "      <td>...</td>\n",
              "      <td>...</td>\n",
              "      <td>...</td>\n",
              "      <td>...</td>\n",
              "      <td>...</td>\n",
              "      <td>...</td>\n",
              "      <td>...</td>\n",
              "      <td>...</td>\n",
              "      <td>...</td>\n",
              "      <td>...</td>\n",
              "      <td>...</td>\n",
              "      <td>...</td>\n",
              "      <td>...</td>\n",
              "      <td>...</td>\n",
              "      <td>...</td>\n",
              "      <td>...</td>\n",
              "      <td>...</td>\n",
              "      <td>...</td>\n",
              "      <td>...</td>\n",
              "      <td>...</td>\n",
              "      <td>...</td>\n",
              "      <td>...</td>\n",
              "      <td>...</td>\n",
              "      <td>...</td>\n",
              "      <td>...</td>\n",
              "      <td>...</td>\n",
              "      <td>...</td>\n",
              "      <td>...</td>\n",
              "      <td>...</td>\n",
              "      <td>...</td>\n",
              "      <td>...</td>\n",
              "      <td>...</td>\n",
              "      <td>...</td>\n",
              "      <td>...</td>\n",
              "      <td>...</td>\n",
              "      <td>...</td>\n",
              "      <td>...</td>\n",
              "      <td>...</td>\n",
              "      <td>...</td>\n",
              "      <td>...</td>\n",
              "      <td>...</td>\n",
              "      <td>...</td>\n",
              "      <td>...</td>\n",
              "      <td>...</td>\n",
              "      <td>...</td>\n",
              "      <td>...</td>\n",
              "      <td>...</td>\n",
              "      <td>...</td>\n",
              "      <td>...</td>\n",
              "      <td>...</td>\n",
              "      <td>...</td>\n",
              "      <td>...</td>\n",
              "      <td>...</td>\n",
              "      <td>...</td>\n",
              "      <td>...</td>\n",
              "      <td>...</td>\n",
              "      <td>...</td>\n",
              "      <td>...</td>\n",
              "      <td>...</td>\n",
              "      <td>...</td>\n",
              "      <td>...</td>\n",
              "      <td>...</td>\n",
              "      <td>...</td>\n",
              "      <td>...</td>\n",
              "      <td>...</td>\n",
              "      <td>...</td>\n",
              "    </tr>\n",
              "    <tr>\n",
              "      <th>3959</th>\n",
              "      <td>BODONI</td>\n",
              "      <td>BODONI MT</td>\n",
              "      <td>37</td>\n",
              "      <td>0.7</td>\n",
              "      <td>1</td>\n",
              "      <td>0.0</td>\n",
              "      <td>36</td>\n",
              "      <td>30</td>\n",
              "      <td>48</td>\n",
              "      <td>46</td>\n",
              "      <td>20</td>\n",
              "      <td>20</td>\n",
              "      <td>1</td>\n",
              "      <td>1</td>\n",
              "      <td>36</td>\n",
              "      <td>154</td>\n",
              "      <td>246</td>\n",
              "      <td>213</td>\n",
              "      <td>247</td>\n",
              "      <td>131</td>\n",
              "      <td>12</td>\n",
              "      <td>1</td>\n",
              "      <td>1</td>\n",
              "      <td>1</td>\n",
              "      <td>1</td>\n",
              "      <td>1</td>\n",
              "      <td>1</td>\n",
              "      <td>1</td>\n",
              "      <td>2</td>\n",
              "      <td>126</td>\n",
              "      <td>255</td>\n",
              "      <td>172</td>\n",
              "      <td>1</td>\n",
              "      <td>87</td>\n",
              "      <td>244</td>\n",
              "      <td>255</td>\n",
              "      <td>163</td>\n",
              "      <td>1</td>\n",
              "      <td>233</td>\n",
              "      <td>255</td>\n",
              "      <td>...</td>\n",
              "      <td>9</td>\n",
              "      <td>160</td>\n",
              "      <td>255</td>\n",
              "      <td>132</td>\n",
              "      <td>1</td>\n",
              "      <td>1</td>\n",
              "      <td>1</td>\n",
              "      <td>1</td>\n",
              "      <td>1</td>\n",
              "      <td>1</td>\n",
              "      <td>1</td>\n",
              "      <td>104</td>\n",
              "      <td>255</td>\n",
              "      <td>233</td>\n",
              "      <td>1</td>\n",
              "      <td>163</td>\n",
              "      <td>255</td>\n",
              "      <td>217</td>\n",
              "      <td>87</td>\n",
              "      <td>1</td>\n",
              "      <td>172</td>\n",
              "      <td>255</td>\n",
              "      <td>126</td>\n",
              "      <td>2</td>\n",
              "      <td>1</td>\n",
              "      <td>1</td>\n",
              "      <td>1</td>\n",
              "      <td>1</td>\n",
              "      <td>1</td>\n",
              "      <td>1</td>\n",
              "      <td>1</td>\n",
              "      <td>12</td>\n",
              "      <td>131</td>\n",
              "      <td>247</td>\n",
              "      <td>213</td>\n",
              "      <td>246</td>\n",
              "      <td>154</td>\n",
              "      <td>17</td>\n",
              "      <td>1</td>\n",
              "      <td>1</td>\n",
              "    </tr>\n",
              "    <tr>\n",
              "      <th>3960</th>\n",
              "      <td>BODONI</td>\n",
              "      <td>BODONI MT</td>\n",
              "      <td>36</td>\n",
              "      <td>0.7</td>\n",
              "      <td>1</td>\n",
              "      <td>0.0</td>\n",
              "      <td>36</td>\n",
              "      <td>22</td>\n",
              "      <td>53</td>\n",
              "      <td>33</td>\n",
              "      <td>20</td>\n",
              "      <td>20</td>\n",
              "      <td>1</td>\n",
              "      <td>1</td>\n",
              "      <td>1</td>\n",
              "      <td>1</td>\n",
              "      <td>1</td>\n",
              "      <td>1</td>\n",
              "      <td>1</td>\n",
              "      <td>1</td>\n",
              "      <td>1</td>\n",
              "      <td>1</td>\n",
              "      <td>62</td>\n",
              "      <td>255</td>\n",
              "      <td>31</td>\n",
              "      <td>1</td>\n",
              "      <td>1</td>\n",
              "      <td>217</td>\n",
              "      <td>93</td>\n",
              "      <td>1</td>\n",
              "      <td>1</td>\n",
              "      <td>1</td>\n",
              "      <td>1</td>\n",
              "      <td>1</td>\n",
              "      <td>1</td>\n",
              "      <td>1</td>\n",
              "      <td>1</td>\n",
              "      <td>1</td>\n",
              "      <td>10</td>\n",
              "      <td>41</td>\n",
              "      <td>...</td>\n",
              "      <td>1</td>\n",
              "      <td>1</td>\n",
              "      <td>1</td>\n",
              "      <td>1</td>\n",
              "      <td>39</td>\n",
              "      <td>255</td>\n",
              "      <td>16</td>\n",
              "      <td>1</td>\n",
              "      <td>1</td>\n",
              "      <td>232</td>\n",
              "      <td>78</td>\n",
              "      <td>1</td>\n",
              "      <td>1</td>\n",
              "      <td>1</td>\n",
              "      <td>1</td>\n",
              "      <td>1</td>\n",
              "      <td>1</td>\n",
              "      <td>1</td>\n",
              "      <td>1</td>\n",
              "      <td>1</td>\n",
              "      <td>1</td>\n",
              "      <td>1</td>\n",
              "      <td>1</td>\n",
              "      <td>1</td>\n",
              "      <td>156</td>\n",
              "      <td>151</td>\n",
              "      <td>4</td>\n",
              "      <td>1</td>\n",
              "      <td>100</td>\n",
              "      <td>191</td>\n",
              "      <td>19</td>\n",
              "      <td>1</td>\n",
              "      <td>1</td>\n",
              "      <td>1</td>\n",
              "      <td>1</td>\n",
              "      <td>1</td>\n",
              "      <td>1</td>\n",
              "      <td>1</td>\n",
              "      <td>1</td>\n",
              "      <td>1</td>\n",
              "    </tr>\n",
              "    <tr>\n",
              "      <th>3961</th>\n",
              "      <td>BODONI</td>\n",
              "      <td>BODONI MT</td>\n",
              "      <td>35</td>\n",
              "      <td>0.7</td>\n",
              "      <td>1</td>\n",
              "      <td>0.0</td>\n",
              "      <td>36</td>\n",
              "      <td>25</td>\n",
              "      <td>46</td>\n",
              "      <td>40</td>\n",
              "      <td>20</td>\n",
              "      <td>20</td>\n",
              "      <td>1</td>\n",
              "      <td>1</td>\n",
              "      <td>1</td>\n",
              "      <td>1</td>\n",
              "      <td>1</td>\n",
              "      <td>1</td>\n",
              "      <td>145</td>\n",
              "      <td>255</td>\n",
              "      <td>255</td>\n",
              "      <td>111</td>\n",
              "      <td>1</td>\n",
              "      <td>1</td>\n",
              "      <td>1</td>\n",
              "      <td>1</td>\n",
              "      <td>1</td>\n",
              "      <td>200</td>\n",
              "      <td>255</td>\n",
              "      <td>255</td>\n",
              "      <td>111</td>\n",
              "      <td>1</td>\n",
              "      <td>1</td>\n",
              "      <td>1</td>\n",
              "      <td>1</td>\n",
              "      <td>1</td>\n",
              "      <td>1</td>\n",
              "      <td>1</td>\n",
              "      <td>255</td>\n",
              "      <td>255</td>\n",
              "      <td>...</td>\n",
              "      <td>1</td>\n",
              "      <td>1</td>\n",
              "      <td>255</td>\n",
              "      <td>255</td>\n",
              "      <td>255</td>\n",
              "      <td>1</td>\n",
              "      <td>1</td>\n",
              "      <td>1</td>\n",
              "      <td>1</td>\n",
              "      <td>1</td>\n",
              "      <td>1</td>\n",
              "      <td>255</td>\n",
              "      <td>255</td>\n",
              "      <td>255</td>\n",
              "      <td>1</td>\n",
              "      <td>1</td>\n",
              "      <td>1</td>\n",
              "      <td>1</td>\n",
              "      <td>1</td>\n",
              "      <td>1</td>\n",
              "      <td>1</td>\n",
              "      <td>111</td>\n",
              "      <td>255</td>\n",
              "      <td>255</td>\n",
              "      <td>145</td>\n",
              "      <td>1</td>\n",
              "      <td>1</td>\n",
              "      <td>1</td>\n",
              "      <td>1</td>\n",
              "      <td>1</td>\n",
              "      <td>111</td>\n",
              "      <td>255</td>\n",
              "      <td>255</td>\n",
              "      <td>145</td>\n",
              "      <td>1</td>\n",
              "      <td>1</td>\n",
              "      <td>1</td>\n",
              "      <td>1</td>\n",
              "      <td>1</td>\n",
              "      <td>1</td>\n",
              "    </tr>\n",
              "    <tr>\n",
              "      <th>3962</th>\n",
              "      <td>BODONI</td>\n",
              "      <td>BODONI MT</td>\n",
              "      <td>34</td>\n",
              "      <td>0.7</td>\n",
              "      <td>1</td>\n",
              "      <td>0.0</td>\n",
              "      <td>36</td>\n",
              "      <td>32</td>\n",
              "      <td>22</td>\n",
              "      <td>25</td>\n",
              "      <td>20</td>\n",
              "      <td>20</td>\n",
              "      <td>1</td>\n",
              "      <td>1</td>\n",
              "      <td>14</td>\n",
              "      <td>24</td>\n",
              "      <td>255</td>\n",
              "      <td>255</td>\n",
              "      <td>255</td>\n",
              "      <td>70</td>\n",
              "      <td>1</td>\n",
              "      <td>1</td>\n",
              "      <td>1</td>\n",
              "      <td>1</td>\n",
              "      <td>1</td>\n",
              "      <td>10</td>\n",
              "      <td>24</td>\n",
              "      <td>209</td>\n",
              "      <td>255</td>\n",
              "      <td>255</td>\n",
              "      <td>116</td>\n",
              "      <td>5</td>\n",
              "      <td>1</td>\n",
              "      <td>19</td>\n",
              "      <td>172</td>\n",
              "      <td>255</td>\n",
              "      <td>255</td>\n",
              "      <td>255</td>\n",
              "      <td>255</td>\n",
              "      <td>255</td>\n",
              "      <td>...</td>\n",
              "      <td>255</td>\n",
              "      <td>255</td>\n",
              "      <td>103</td>\n",
              "      <td>1</td>\n",
              "      <td>1</td>\n",
              "      <td>1</td>\n",
              "      <td>1</td>\n",
              "      <td>1</td>\n",
              "      <td>1</td>\n",
              "      <td>1</td>\n",
              "      <td>1</td>\n",
              "      <td>205</td>\n",
              "      <td>255</td>\n",
              "      <td>154</td>\n",
              "      <td>1</td>\n",
              "      <td>1</td>\n",
              "      <td>1</td>\n",
              "      <td>1</td>\n",
              "      <td>1</td>\n",
              "      <td>1</td>\n",
              "      <td>255</td>\n",
              "      <td>163</td>\n",
              "      <td>10</td>\n",
              "      <td>1</td>\n",
              "      <td>1</td>\n",
              "      <td>1</td>\n",
              "      <td>1</td>\n",
              "      <td>1</td>\n",
              "      <td>1</td>\n",
              "      <td>1</td>\n",
              "      <td>1</td>\n",
              "      <td>205</td>\n",
              "      <td>209</td>\n",
              "      <td>14</td>\n",
              "      <td>1</td>\n",
              "      <td>1</td>\n",
              "      <td>1</td>\n",
              "      <td>1</td>\n",
              "      <td>1</td>\n",
              "      <td>1</td>\n",
              "    </tr>\n",
              "    <tr>\n",
              "      <th>3963</th>\n",
              "      <td>BODONI</td>\n",
              "      <td>BODONI MT</td>\n",
              "      <td>33</td>\n",
              "      <td>0.7</td>\n",
              "      <td>1</td>\n",
              "      <td>0.0</td>\n",
              "      <td>36</td>\n",
              "      <td>25</td>\n",
              "      <td>46</td>\n",
              "      <td>19</td>\n",
              "      <td>20</td>\n",
              "      <td>20</td>\n",
              "      <td>1</td>\n",
              "      <td>1</td>\n",
              "      <td>1</td>\n",
              "      <td>1</td>\n",
              "      <td>1</td>\n",
              "      <td>1</td>\n",
              "      <td>1</td>\n",
              "      <td>1</td>\n",
              "      <td>1</td>\n",
              "      <td>1</td>\n",
              "      <td>69</td>\n",
              "      <td>145</td>\n",
              "      <td>185</td>\n",
              "      <td>255</td>\n",
              "      <td>255</td>\n",
              "      <td>255</td>\n",
              "      <td>255</td>\n",
              "      <td>244</td>\n",
              "      <td>139</td>\n",
              "      <td>34</td>\n",
              "      <td>1</td>\n",
              "      <td>1</td>\n",
              "      <td>1</td>\n",
              "      <td>1</td>\n",
              "      <td>1</td>\n",
              "      <td>1</td>\n",
              "      <td>1</td>\n",
              "      <td>1</td>\n",
              "      <td>...</td>\n",
              "      <td>178</td>\n",
              "      <td>251</td>\n",
              "      <td>255</td>\n",
              "      <td>255</td>\n",
              "      <td>255</td>\n",
              "      <td>255</td>\n",
              "      <td>255</td>\n",
              "      <td>255</td>\n",
              "      <td>255</td>\n",
              "      <td>215</td>\n",
              "      <td>94</td>\n",
              "      <td>1</td>\n",
              "      <td>1</td>\n",
              "      <td>1</td>\n",
              "      <td>1</td>\n",
              "      <td>1</td>\n",
              "      <td>1</td>\n",
              "      <td>1</td>\n",
              "      <td>1</td>\n",
              "      <td>1</td>\n",
              "      <td>1</td>\n",
              "      <td>137</td>\n",
              "      <td>145</td>\n",
              "      <td>238</td>\n",
              "      <td>255</td>\n",
              "      <td>255</td>\n",
              "      <td>255</td>\n",
              "      <td>185</td>\n",
              "      <td>145</td>\n",
              "      <td>69</td>\n",
              "      <td>1</td>\n",
              "      <td>1</td>\n",
              "      <td>1</td>\n",
              "      <td>1</td>\n",
              "      <td>1</td>\n",
              "      <td>1</td>\n",
              "      <td>1</td>\n",
              "      <td>1</td>\n",
              "      <td>1</td>\n",
              "      <td>1</td>\n",
              "    </tr>\n",
              "  </tbody>\n",
              "</table>\n",
              "<p>3964 rows × 412 columns</p>\n",
              "</div>"
            ],
            "text/plain": [
              "        font                  fontVariant  m_label  ...  r19c17  r19c18  r19c19\n",
              "0     BODONI  BODONI MT POSTER COMPRESSED    64258  ...     255     105     105\n",
              "1     BODONI  BODONI MT POSTER COMPRESSED    64257  ...     255     105     105\n",
              "2     BODONI  BODONI MT POSTER COMPRESSED     9674  ...       1       1       1\n",
              "3     BODONI  BODONI MT POSTER COMPRESSED     8805  ...     255     255     255\n",
              "4     BODONI  BODONI MT POSTER COMPRESSED     8804  ...     255     255     255\n",
              "...      ...                          ...      ...  ...     ...     ...     ...\n",
              "3959  BODONI                    BODONI MT       37  ...      17       1       1\n",
              "3960  BODONI                    BODONI MT       36  ...       1       1       1\n",
              "3961  BODONI                    BODONI MT       35  ...       1       1       1\n",
              "3962  BODONI                    BODONI MT       34  ...       1       1       1\n",
              "3963  BODONI                    BODONI MT       33  ...       1       1       1\n",
              "\n",
              "[3964 rows x 412 columns]"
            ]
          },
          "metadata": {},
          "execution_count": 6
        }
      ]
    },
    {
      "cell_type": "markdown",
      "metadata": {
        "id": "2fOm2z2xW2hN"
      },
      "source": [
        "KEEP the 3 columns {font, strength, italic}\n",
        "KEEP also the 400 columns named r0c0, r0c1,r0c2, ... , r19c18, r19c19 any row containing missing numerical data should be be discarded"
      ]
    },
    {
      "cell_type": "code",
      "metadata": {
        "id": "BqvhC4UAhVbv"
      },
      "source": [
        "#KEEP the 3 columns {font, strength, italic}\n",
        "df_CL1 = df_bodoni.iloc[:, [0]+ [3] + [4] + list(np.arange(12,412))].dropna()\n",
        "df_CL2 = df_eras.iloc[:, [0]+ [3] + [4] + list(np.arange(12,412))].dropna()\n",
        "df_CL3 = df_gabriola.iloc[:, [0]+ [3] + [4] + list(np.arange(12,412))].dropna()\n",
        "df_CL4 = df_technic.iloc[:, [0]+ [3] + [4] + list(np.arange(12,412))].dropna()"
      ],
      "execution_count": null,
      "outputs": []
    },
    {
      "cell_type": "markdown",
      "metadata": {
        "id": "dnURd3eXzxMB"
      },
      "source": [
        "Define then four CLASSES CL1 CL2 CL3 CL4 of images of \"normal\" characters as follows CLj = all rows of FONTj.csv for the only cases kept are **(not italic - italic= 0 & not bold - strength= 0.4)**\\\n",
        "N cases , 400 features X1(n) … X400(n) per case “n”"
      ]
    },
    {
      "cell_type": "code",
      "metadata": {
        "id": "id-gG2a40IbI"
      },
      "source": [
        "#the \"normal\" character data frames are denoted by _n\n",
        "df_CL1_n = df_CL1[(df_CL1['strength']==0.4) & (df_CL1['italic']==0)].drop(columns=['font','strength','italic'])\n",
        "df_CL2_n = df_CL2[(df_CL2['strength']==0.4) & (df_CL2['italic']==0)].drop(columns=['font','strength','italic'])\n",
        "df_CL3_n = df_CL3[(df_CL3['strength']==0.4) & (df_CL3['italic']==0)].drop(columns=['font','strength','italic'])\n",
        "df_CL4_n = df_CL4[(df_CL4['strength']==0.4) & (df_CL4['italic']==0)].drop(columns=['font','strength','italic'])"
      ],
      "execution_count": null,
      "outputs": []
    },
    {
      "cell_type": "code",
      "metadata": {
        "colab": {
          "base_uri": "https://localhost:8080/"
        },
        "id": "aNRys_h_01Aq",
        "outputId": "1cdc4592-a448-42df-c146-d0a2635b31a2"
      },
      "source": [
        "#check \"normal\" data shapes and balance\n",
        "print(df_CL1_n.shape,df_CL2_n.shape,df_CL3_n.shape,df_CL4_n.shape)\n"
      ],
      "execution_count": null,
      "outputs": [
        {
          "output_type": "stream",
          "name": "stdout",
          "text": [
            "(991, 400) (976, 400) (878, 400) (1380, 400)\n"
          ]
        }
      ]
    },
    {
      "cell_type": "code",
      "metadata": {
        "id": "wYk1yn0zjbt3"
      },
      "source": [
        "size_cl1=len(df_CL1_n)\n",
        "size_cl2=len(df_CL2_n)\n",
        "size_cl3=len(df_CL3_n)\n",
        "size_cl4=len(df_CL4_n)\n",
        "size_total=size_cl1+size_cl2+size_cl3+size_cl4\n",
        "perc_cl1=len(df_CL1_n)/size_total*100\n",
        "perc_cl2=len(df_CL2_n)/size_total*100\n",
        "perc_cl3=len(df_CL3_n)/size_total*100\n",
        "perc_cl4=len(df_CL4_n)/size_total*100\n",
        "cl_size=[size_cl1,size_cl2,size_cl3,size_cl4]\n",
        "cl_perc=np.around([perc_cl1,perc_cl2,perc_cl3,perc_cl4],decimals=1)\n",
        "cl_list=zip(cl_size,cl_perc)"
      ],
      "execution_count": null,
      "outputs": []
    },
    {
      "cell_type": "code",
      "metadata": {
        "id": "sDlVTx1viWC2",
        "colab": {
          "base_uri": "https://localhost:8080/",
          "height": 173
        },
        "outputId": "2971f53a-0845-4ed7-afd8-d621d34b0d1c"
      },
      "source": [
        "cl_table=pd.DataFrame(cl_list,columns=['Size of Class','Percentage of Class'],index =['CL1', 'CL2', 'CL3', 'CL4'])\n",
        "cl_table"
      ],
      "execution_count": null,
      "outputs": [
        {
          "output_type": "execute_result",
          "data": {
            "text/html": [
              "<div>\n",
              "<style scoped>\n",
              "    .dataframe tbody tr th:only-of-type {\n",
              "        vertical-align: middle;\n",
              "    }\n",
              "\n",
              "    .dataframe tbody tr th {\n",
              "        vertical-align: top;\n",
              "    }\n",
              "\n",
              "    .dataframe thead th {\n",
              "        text-align: right;\n",
              "    }\n",
              "</style>\n",
              "<table border=\"1\" class=\"dataframe\">\n",
              "  <thead>\n",
              "    <tr style=\"text-align: right;\">\n",
              "      <th></th>\n",
              "      <th>Size of Class</th>\n",
              "      <th>Percentage of Class</th>\n",
              "    </tr>\n",
              "  </thead>\n",
              "  <tbody>\n",
              "    <tr>\n",
              "      <th>CL1</th>\n",
              "      <td>991</td>\n",
              "      <td>23.5</td>\n",
              "    </tr>\n",
              "    <tr>\n",
              "      <th>CL2</th>\n",
              "      <td>976</td>\n",
              "      <td>23.1</td>\n",
              "    </tr>\n",
              "    <tr>\n",
              "      <th>CL3</th>\n",
              "      <td>878</td>\n",
              "      <td>20.8</td>\n",
              "    </tr>\n",
              "    <tr>\n",
              "      <th>CL4</th>\n",
              "      <td>1380</td>\n",
              "      <td>32.7</td>\n",
              "    </tr>\n",
              "  </tbody>\n",
              "</table>\n",
              "</div>"
            ],
            "text/plain": [
              "     Size of Class  Percentage of Class\n",
              "CL1            991                 23.5\n",
              "CL2            976                 23.1\n",
              "CL3            878                 20.8\n",
              "CL4           1380                 32.7"
            ]
          },
          "metadata": {},
          "execution_count": 11
        }
      ]
    },
    {
      "cell_type": "code",
      "metadata": {
        "colab": {
          "base_uri": "https://localhost:8080/",
          "height": 253
        },
        "id": "meaiJVJCvK69",
        "outputId": "59419e64-b230-4ec7-820d-b5a0810bf247"
      },
      "source": [
        "DATA = pd.concat([df_CL1_n, df_CL2_n, df_CL3_n, df_CL4_n], ignore_index=True)\n",
        "DATA.head()\n",
        "# This data set before PCA has 400 features. We will perform PCA to only keep r features to work for this homework 3."
      ],
      "execution_count": null,
      "outputs": [
        {
          "output_type": "execute_result",
          "data": {
            "text/html": [
              "<div>\n",
              "<style scoped>\n",
              "    .dataframe tbody tr th:only-of-type {\n",
              "        vertical-align: middle;\n",
              "    }\n",
              "\n",
              "    .dataframe tbody tr th {\n",
              "        vertical-align: top;\n",
              "    }\n",
              "\n",
              "    .dataframe thead th {\n",
              "        text-align: right;\n",
              "    }\n",
              "</style>\n",
              "<table border=\"1\" class=\"dataframe\">\n",
              "  <thead>\n",
              "    <tr style=\"text-align: right;\">\n",
              "      <th></th>\n",
              "      <th>r0c0</th>\n",
              "      <th>r0c1</th>\n",
              "      <th>r0c2</th>\n",
              "      <th>r0c3</th>\n",
              "      <th>r0c4</th>\n",
              "      <th>r0c5</th>\n",
              "      <th>r0c6</th>\n",
              "      <th>r0c7</th>\n",
              "      <th>r0c8</th>\n",
              "      <th>r0c9</th>\n",
              "      <th>r0c10</th>\n",
              "      <th>r0c11</th>\n",
              "      <th>r0c12</th>\n",
              "      <th>r0c13</th>\n",
              "      <th>r0c14</th>\n",
              "      <th>r0c15</th>\n",
              "      <th>r0c16</th>\n",
              "      <th>r0c17</th>\n",
              "      <th>r0c18</th>\n",
              "      <th>r0c19</th>\n",
              "      <th>r1c0</th>\n",
              "      <th>r1c1</th>\n",
              "      <th>r1c2</th>\n",
              "      <th>r1c3</th>\n",
              "      <th>r1c4</th>\n",
              "      <th>r1c5</th>\n",
              "      <th>r1c6</th>\n",
              "      <th>r1c7</th>\n",
              "      <th>r1c8</th>\n",
              "      <th>r1c9</th>\n",
              "      <th>r1c10</th>\n",
              "      <th>r1c11</th>\n",
              "      <th>r1c12</th>\n",
              "      <th>r1c13</th>\n",
              "      <th>r1c14</th>\n",
              "      <th>r1c15</th>\n",
              "      <th>r1c16</th>\n",
              "      <th>r1c17</th>\n",
              "      <th>r1c18</th>\n",
              "      <th>r1c19</th>\n",
              "      <th>...</th>\n",
              "      <th>r18c0</th>\n",
              "      <th>r18c1</th>\n",
              "      <th>r18c2</th>\n",
              "      <th>r18c3</th>\n",
              "      <th>r18c4</th>\n",
              "      <th>r18c5</th>\n",
              "      <th>r18c6</th>\n",
              "      <th>r18c7</th>\n",
              "      <th>r18c8</th>\n",
              "      <th>r18c9</th>\n",
              "      <th>r18c10</th>\n",
              "      <th>r18c11</th>\n",
              "      <th>r18c12</th>\n",
              "      <th>r18c13</th>\n",
              "      <th>r18c14</th>\n",
              "      <th>r18c15</th>\n",
              "      <th>r18c16</th>\n",
              "      <th>r18c17</th>\n",
              "      <th>r18c18</th>\n",
              "      <th>r18c19</th>\n",
              "      <th>r19c0</th>\n",
              "      <th>r19c1</th>\n",
              "      <th>r19c2</th>\n",
              "      <th>r19c3</th>\n",
              "      <th>r19c4</th>\n",
              "      <th>r19c5</th>\n",
              "      <th>r19c6</th>\n",
              "      <th>r19c7</th>\n",
              "      <th>r19c8</th>\n",
              "      <th>r19c9</th>\n",
              "      <th>r19c10</th>\n",
              "      <th>r19c11</th>\n",
              "      <th>r19c12</th>\n",
              "      <th>r19c13</th>\n",
              "      <th>r19c14</th>\n",
              "      <th>r19c15</th>\n",
              "      <th>r19c16</th>\n",
              "      <th>r19c17</th>\n",
              "      <th>r19c18</th>\n",
              "      <th>r19c19</th>\n",
              "    </tr>\n",
              "  </thead>\n",
              "  <tbody>\n",
              "    <tr>\n",
              "      <th>0</th>\n",
              "      <td>1</td>\n",
              "      <td>1</td>\n",
              "      <td>1</td>\n",
              "      <td>1</td>\n",
              "      <td>1</td>\n",
              "      <td>47</td>\n",
              "      <td>47</td>\n",
              "      <td>151</td>\n",
              "      <td>209</td>\n",
              "      <td>105</td>\n",
              "      <td>105</td>\n",
              "      <td>105</td>\n",
              "      <td>255</td>\n",
              "      <td>255</td>\n",
              "      <td>255</td>\n",
              "      <td>255</td>\n",
              "      <td>255</td>\n",
              "      <td>255</td>\n",
              "      <td>1</td>\n",
              "      <td>1</td>\n",
              "      <td>1</td>\n",
              "      <td>1</td>\n",
              "      <td>1</td>\n",
              "      <td>1</td>\n",
              "      <td>94</td>\n",
              "      <td>255</td>\n",
              "      <td>255</td>\n",
              "      <td>58</td>\n",
              "      <td>1</td>\n",
              "      <td>1</td>\n",
              "      <td>1</td>\n",
              "      <td>198</td>\n",
              "      <td>255</td>\n",
              "      <td>255</td>\n",
              "      <td>255</td>\n",
              "      <td>255</td>\n",
              "      <td>255</td>\n",
              "      <td>255</td>\n",
              "      <td>1</td>\n",
              "      <td>1</td>\n",
              "      <td>...</td>\n",
              "      <td>1</td>\n",
              "      <td>1</td>\n",
              "      <td>255</td>\n",
              "      <td>255</td>\n",
              "      <td>255</td>\n",
              "      <td>255</td>\n",
              "      <td>255</td>\n",
              "      <td>255</td>\n",
              "      <td>1</td>\n",
              "      <td>1</td>\n",
              "      <td>1</td>\n",
              "      <td>1</td>\n",
              "      <td>255</td>\n",
              "      <td>255</td>\n",
              "      <td>255</td>\n",
              "      <td>255</td>\n",
              "      <td>255</td>\n",
              "      <td>255</td>\n",
              "      <td>1</td>\n",
              "      <td>1</td>\n",
              "      <td>105</td>\n",
              "      <td>105</td>\n",
              "      <td>255</td>\n",
              "      <td>255</td>\n",
              "      <td>255</td>\n",
              "      <td>255</td>\n",
              "      <td>255</td>\n",
              "      <td>255</td>\n",
              "      <td>105</td>\n",
              "      <td>1</td>\n",
              "      <td>1</td>\n",
              "      <td>105</td>\n",
              "      <td>255</td>\n",
              "      <td>255</td>\n",
              "      <td>255</td>\n",
              "      <td>255</td>\n",
              "      <td>255</td>\n",
              "      <td>255</td>\n",
              "      <td>105</td>\n",
              "      <td>105</td>\n",
              "    </tr>\n",
              "    <tr>\n",
              "      <th>1</th>\n",
              "      <td>1</td>\n",
              "      <td>1</td>\n",
              "      <td>1</td>\n",
              "      <td>1</td>\n",
              "      <td>1</td>\n",
              "      <td>1</td>\n",
              "      <td>47</td>\n",
              "      <td>151</td>\n",
              "      <td>151</td>\n",
              "      <td>209</td>\n",
              "      <td>105</td>\n",
              "      <td>105</td>\n",
              "      <td>105</td>\n",
              "      <td>105</td>\n",
              "      <td>105</td>\n",
              "      <td>151</td>\n",
              "      <td>151</td>\n",
              "      <td>47</td>\n",
              "      <td>1</td>\n",
              "      <td>1</td>\n",
              "      <td>1</td>\n",
              "      <td>1</td>\n",
              "      <td>1</td>\n",
              "      <td>1</td>\n",
              "      <td>94</td>\n",
              "      <td>198</td>\n",
              "      <td>255</td>\n",
              "      <td>162</td>\n",
              "      <td>58</td>\n",
              "      <td>1</td>\n",
              "      <td>1</td>\n",
              "      <td>1</td>\n",
              "      <td>1</td>\n",
              "      <td>94</td>\n",
              "      <td>198</td>\n",
              "      <td>255</td>\n",
              "      <td>255</td>\n",
              "      <td>255</td>\n",
              "      <td>198</td>\n",
              "      <td>1</td>\n",
              "      <td>...</td>\n",
              "      <td>1</td>\n",
              "      <td>1</td>\n",
              "      <td>255</td>\n",
              "      <td>255</td>\n",
              "      <td>255</td>\n",
              "      <td>255</td>\n",
              "      <td>255</td>\n",
              "      <td>255</td>\n",
              "      <td>1</td>\n",
              "      <td>1</td>\n",
              "      <td>1</td>\n",
              "      <td>1</td>\n",
              "      <td>255</td>\n",
              "      <td>255</td>\n",
              "      <td>255</td>\n",
              "      <td>255</td>\n",
              "      <td>255</td>\n",
              "      <td>255</td>\n",
              "      <td>1</td>\n",
              "      <td>1</td>\n",
              "      <td>105</td>\n",
              "      <td>105</td>\n",
              "      <td>255</td>\n",
              "      <td>255</td>\n",
              "      <td>255</td>\n",
              "      <td>255</td>\n",
              "      <td>255</td>\n",
              "      <td>255</td>\n",
              "      <td>105</td>\n",
              "      <td>1</td>\n",
              "      <td>1</td>\n",
              "      <td>105</td>\n",
              "      <td>255</td>\n",
              "      <td>255</td>\n",
              "      <td>255</td>\n",
              "      <td>255</td>\n",
              "      <td>255</td>\n",
              "      <td>255</td>\n",
              "      <td>105</td>\n",
              "      <td>105</td>\n",
              "    </tr>\n",
              "    <tr>\n",
              "      <th>2</th>\n",
              "      <td>1</td>\n",
              "      <td>1</td>\n",
              "      <td>1</td>\n",
              "      <td>1</td>\n",
              "      <td>1</td>\n",
              "      <td>1</td>\n",
              "      <td>1</td>\n",
              "      <td>1</td>\n",
              "      <td>2</td>\n",
              "      <td>119</td>\n",
              "      <td>119</td>\n",
              "      <td>2</td>\n",
              "      <td>1</td>\n",
              "      <td>1</td>\n",
              "      <td>1</td>\n",
              "      <td>1</td>\n",
              "      <td>1</td>\n",
              "      <td>1</td>\n",
              "      <td>1</td>\n",
              "      <td>1</td>\n",
              "      <td>1</td>\n",
              "      <td>1</td>\n",
              "      <td>1</td>\n",
              "      <td>1</td>\n",
              "      <td>1</td>\n",
              "      <td>1</td>\n",
              "      <td>1</td>\n",
              "      <td>1</td>\n",
              "      <td>146</td>\n",
              "      <td>255</td>\n",
              "      <td>255</td>\n",
              "      <td>146</td>\n",
              "      <td>1</td>\n",
              "      <td>1</td>\n",
              "      <td>1</td>\n",
              "      <td>1</td>\n",
              "      <td>1</td>\n",
              "      <td>1</td>\n",
              "      <td>1</td>\n",
              "      <td>1</td>\n",
              "      <td>...</td>\n",
              "      <td>1</td>\n",
              "      <td>1</td>\n",
              "      <td>1</td>\n",
              "      <td>1</td>\n",
              "      <td>1</td>\n",
              "      <td>1</td>\n",
              "      <td>1</td>\n",
              "      <td>1</td>\n",
              "      <td>146</td>\n",
              "      <td>255</td>\n",
              "      <td>255</td>\n",
              "      <td>146</td>\n",
              "      <td>1</td>\n",
              "      <td>1</td>\n",
              "      <td>1</td>\n",
              "      <td>1</td>\n",
              "      <td>1</td>\n",
              "      <td>1</td>\n",
              "      <td>1</td>\n",
              "      <td>1</td>\n",
              "      <td>1</td>\n",
              "      <td>1</td>\n",
              "      <td>1</td>\n",
              "      <td>1</td>\n",
              "      <td>1</td>\n",
              "      <td>1</td>\n",
              "      <td>1</td>\n",
              "      <td>1</td>\n",
              "      <td>2</td>\n",
              "      <td>119</td>\n",
              "      <td>119</td>\n",
              "      <td>2</td>\n",
              "      <td>1</td>\n",
              "      <td>1</td>\n",
              "      <td>1</td>\n",
              "      <td>1</td>\n",
              "      <td>1</td>\n",
              "      <td>1</td>\n",
              "      <td>1</td>\n",
              "      <td>1</td>\n",
              "    </tr>\n",
              "    <tr>\n",
              "      <th>3</th>\n",
              "      <td>255</td>\n",
              "      <td>194</td>\n",
              "      <td>101</td>\n",
              "      <td>21</td>\n",
              "      <td>1</td>\n",
              "      <td>1</td>\n",
              "      <td>1</td>\n",
              "      <td>1</td>\n",
              "      <td>1</td>\n",
              "      <td>1</td>\n",
              "      <td>1</td>\n",
              "      <td>1</td>\n",
              "      <td>1</td>\n",
              "      <td>1</td>\n",
              "      <td>1</td>\n",
              "      <td>1</td>\n",
              "      <td>1</td>\n",
              "      <td>1</td>\n",
              "      <td>1</td>\n",
              "      <td>1</td>\n",
              "      <td>218</td>\n",
              "      <td>255</td>\n",
              "      <td>255</td>\n",
              "      <td>212</td>\n",
              "      <td>171</td>\n",
              "      <td>47</td>\n",
              "      <td>19</td>\n",
              "      <td>1</td>\n",
              "      <td>1</td>\n",
              "      <td>1</td>\n",
              "      <td>1</td>\n",
              "      <td>1</td>\n",
              "      <td>1</td>\n",
              "      <td>1</td>\n",
              "      <td>1</td>\n",
              "      <td>1</td>\n",
              "      <td>1</td>\n",
              "      <td>1</td>\n",
              "      <td>1</td>\n",
              "      <td>1</td>\n",
              "      <td>...</td>\n",
              "      <td>209</td>\n",
              "      <td>209</td>\n",
              "      <td>209</td>\n",
              "      <td>209</td>\n",
              "      <td>209</td>\n",
              "      <td>209</td>\n",
              "      <td>209</td>\n",
              "      <td>209</td>\n",
              "      <td>209</td>\n",
              "      <td>209</td>\n",
              "      <td>209</td>\n",
              "      <td>209</td>\n",
              "      <td>209</td>\n",
              "      <td>209</td>\n",
              "      <td>209</td>\n",
              "      <td>209</td>\n",
              "      <td>209</td>\n",
              "      <td>209</td>\n",
              "      <td>209</td>\n",
              "      <td>209</td>\n",
              "      <td>255</td>\n",
              "      <td>255</td>\n",
              "      <td>255</td>\n",
              "      <td>255</td>\n",
              "      <td>255</td>\n",
              "      <td>255</td>\n",
              "      <td>255</td>\n",
              "      <td>255</td>\n",
              "      <td>255</td>\n",
              "      <td>255</td>\n",
              "      <td>255</td>\n",
              "      <td>255</td>\n",
              "      <td>255</td>\n",
              "      <td>255</td>\n",
              "      <td>255</td>\n",
              "      <td>255</td>\n",
              "      <td>255</td>\n",
              "      <td>255</td>\n",
              "      <td>255</td>\n",
              "      <td>255</td>\n",
              "    </tr>\n",
              "    <tr>\n",
              "      <th>4</th>\n",
              "      <td>1</td>\n",
              "      <td>1</td>\n",
              "      <td>1</td>\n",
              "      <td>1</td>\n",
              "      <td>1</td>\n",
              "      <td>1</td>\n",
              "      <td>1</td>\n",
              "      <td>1</td>\n",
              "      <td>1</td>\n",
              "      <td>1</td>\n",
              "      <td>1</td>\n",
              "      <td>1</td>\n",
              "      <td>1</td>\n",
              "      <td>1</td>\n",
              "      <td>1</td>\n",
              "      <td>1</td>\n",
              "      <td>21</td>\n",
              "      <td>101</td>\n",
              "      <td>194</td>\n",
              "      <td>255</td>\n",
              "      <td>1</td>\n",
              "      <td>1</td>\n",
              "      <td>1</td>\n",
              "      <td>1</td>\n",
              "      <td>1</td>\n",
              "      <td>1</td>\n",
              "      <td>1</td>\n",
              "      <td>1</td>\n",
              "      <td>1</td>\n",
              "      <td>1</td>\n",
              "      <td>1</td>\n",
              "      <td>1</td>\n",
              "      <td>1</td>\n",
              "      <td>19</td>\n",
              "      <td>47</td>\n",
              "      <td>171</td>\n",
              "      <td>212</td>\n",
              "      <td>255</td>\n",
              "      <td>255</td>\n",
              "      <td>218</td>\n",
              "      <td>...</td>\n",
              "      <td>209</td>\n",
              "      <td>209</td>\n",
              "      <td>209</td>\n",
              "      <td>209</td>\n",
              "      <td>209</td>\n",
              "      <td>209</td>\n",
              "      <td>209</td>\n",
              "      <td>209</td>\n",
              "      <td>209</td>\n",
              "      <td>209</td>\n",
              "      <td>209</td>\n",
              "      <td>209</td>\n",
              "      <td>209</td>\n",
              "      <td>209</td>\n",
              "      <td>209</td>\n",
              "      <td>209</td>\n",
              "      <td>209</td>\n",
              "      <td>209</td>\n",
              "      <td>209</td>\n",
              "      <td>209</td>\n",
              "      <td>255</td>\n",
              "      <td>255</td>\n",
              "      <td>255</td>\n",
              "      <td>255</td>\n",
              "      <td>255</td>\n",
              "      <td>255</td>\n",
              "      <td>255</td>\n",
              "      <td>255</td>\n",
              "      <td>255</td>\n",
              "      <td>255</td>\n",
              "      <td>255</td>\n",
              "      <td>255</td>\n",
              "      <td>255</td>\n",
              "      <td>255</td>\n",
              "      <td>255</td>\n",
              "      <td>255</td>\n",
              "      <td>255</td>\n",
              "      <td>255</td>\n",
              "      <td>255</td>\n",
              "      <td>255</td>\n",
              "    </tr>\n",
              "  </tbody>\n",
              "</table>\n",
              "<p>5 rows × 400 columns</p>\n",
              "</div>"
            ],
            "text/plain": [
              "   r0c0  r0c1  r0c2  r0c3  r0c4  ...  r19c15  r19c16  r19c17  r19c18  r19c19\n",
              "0     1     1     1     1     1  ...     255     255     255     105     105\n",
              "1     1     1     1     1     1  ...     255     255     255     105     105\n",
              "2     1     1     1     1     1  ...       1       1       1       1       1\n",
              "3   255   194   101    21     1  ...     255     255     255     255     255\n",
              "4     1     1     1     1     1  ...     255     255     255     255     255\n",
              "\n",
              "[5 rows x 400 columns]"
            ]
          },
          "metadata": {},
          "execution_count": 12
        }
      ]
    },
    {
      "cell_type": "code",
      "metadata": {
        "id": "cSgd-pNlD3qg",
        "colab": {
          "base_uri": "https://localhost:8080/"
        },
        "outputId": "9d40b452-6c52-43e7-c0ef-46969a145faf"
      },
      "source": [
        "from sklearn.decomposition import PCA\n",
        "pca_data=PCA(0.9).fit(DATA)\n",
        "z=pca_data.transform(DATA)\n",
        "ZDATA=pd.DataFrame(z)\n",
        "ZDATA.shape"
      ],
      "execution_count": null,
      "outputs": [
        {
          "output_type": "execute_result",
          "data": {
            "text/plain": [
              "(4225, 61)"
            ]
          },
          "metadata": {},
          "execution_count": 13
        }
      ]
    },
    {
      "cell_type": "code",
      "metadata": {
        "id": "7rd5SPEV0BnI"
      },
      "source": [
        "#Generate TRUC data series corresponding to CLk\n",
        "TRUC_1=(df_CL1_n.iloc[:,1]*0+1).to_numpy();\n",
        "TRUC_2=(df_CL2_n.iloc[:,1]*0+2).to_numpy();\n",
        "TRUC_3=(df_CL3_n.iloc[:,1]*0+3).to_numpy();\n",
        "TRUC_4=(df_CL4_n.iloc[:,1]*0+4).to_numpy()\n",
        "TRUC=np.concatenate([TRUC_1,TRUC_2,TRUC_3,TRUC_4])"
      ],
      "execution_count": null,
      "outputs": []
    },
    {
      "cell_type": "code",
      "metadata": {
        "id": "XjsYipBX0NOU"
      },
      "source": [
        "ZDATA['TRUC']=TRUC"
      ],
      "execution_count": null,
      "outputs": []
    },
    {
      "cell_type": "code",
      "metadata": {
        "id": "UKjIFdRFjdDl"
      },
      "source": [
        "# This ZDATA includes 4 fonts with only 61 features after performing PCA. ZDATA is comsidered as big data set that we need to work on.\n",
        "# Also, we need split this big data ZDATA into 4 groups ZCL1, ZCL2, ZCL3, ZCL4 for small group analysis purposes.\n",
        "\n",
        "ZCL1 = ZDATA[ZDATA['TRUC']==1]\n",
        "ZCL2 = ZDATA[ZDATA['TRUC']==2]\n",
        "ZCL3 = ZDATA[ZDATA['TRUC']==3]\n",
        "ZCL4 = ZDATA[ZDATA['TRUC']==4]"
      ],
      "execution_count": null,
      "outputs": []
    },
    {
      "cell_type": "code",
      "metadata": {
        "colab": {
          "base_uri": "https://localhost:8080/"
        },
        "id": "7v38KJRbTfjx",
        "outputId": "d22e1def-9613-41b0-db6b-d710d20de99f"
      },
      "source": [
        "ZCL2.shape"
      ],
      "execution_count": null,
      "outputs": [
        {
          "output_type": "execute_result",
          "data": {
            "text/plain": [
              "(976, 62)"
            ]
          },
          "metadata": {},
          "execution_count": 17
        }
      ]
    },
    {
      "cell_type": "code",
      "metadata": {
        "colab": {
          "base_uri": "https://localhost:8080/"
        },
        "id": "ML3-2Vx7Tlu4",
        "outputId": "50f13e7b-3906-45cb-b84e-eb1c3f399d1b"
      },
      "source": [
        "TRUC_2.shape"
      ],
      "execution_count": null,
      "outputs": [
        {
          "output_type": "execute_result",
          "data": {
            "text/plain": [
              "(976,)"
            ]
          },
          "metadata": {},
          "execution_count": 18
        }
      ]
    },
    {
      "cell_type": "markdown",
      "metadata": {
        "id": "sJ9CWxWeRE2Q"
      },
      "source": [
        "#**1. Rebalancing data by SMOTE**#"
      ]
    },
    {
      "cell_type": "markdown",
      "metadata": {
        "id": "amgyZCeATxxf"
      },
      "source": [
        "**1.1 For classes CL1 … CL4 display Sj = CLj ), perc (j) = Sj /N**"
      ]
    },
    {
      "cell_type": "code",
      "metadata": {
        "colab": {
          "base_uri": "https://localhost:8080/"
        },
        "id": "zXEuSIMl1IcE",
        "outputId": "c9b2f917-b5ae-4a3a-a070-21458501e1d4"
      },
      "source": [
        "#calculate Sj = size(CLj)\n",
        "size_cl1 = len(ZCL1)\n",
        "size_cl2 = len(ZCL2)\n",
        "size_cl3 = len(ZCL3)\n",
        "size_cl4 = len(ZCL4)\n",
        "print('Size CL1 (bodoni data set) is:', size_cl1)\n",
        "print('Size CL2 (eras data set) is:', size_cl2)\n",
        "print('Size CL3 (gabriola data set) is:', size_cl3)\n",
        "print('Size CL4 (technic data set) is:', size_cl4)"
      ],
      "execution_count": null,
      "outputs": [
        {
          "output_type": "stream",
          "name": "stdout",
          "text": [
            "Size CL1 (bodoni data set) is: 991\n",
            "Size CL2 (eras data set) is: 976\n",
            "Size CL3 (gabriola data set) is: 878\n",
            "Size CL4 (technic data set) is: 1380\n"
          ]
        }
      ]
    },
    {
      "cell_type": "code",
      "metadata": {
        "colab": {
          "base_uri": "https://localhost:8080/"
        },
        "id": "Nk7gqlXnQ5ED",
        "outputId": "f0ca5289-d83f-46a4-db1d-ae7a60007fb8"
      },
      "source": [
        "#perc(j) = Sj/N\n",
        "size_total = size_cl1 + size_cl2 + size_cl3 + size_cl4\n",
        "pca_perc_cl1 = np.around(size_cl1/size_total*100,decimals=1)\n",
        "pca_perc_cl2 = np.around(size_cl2/size_total*100,decimals=1)\n",
        "pca_perc_cl3 = np.around(size_cl3/size_total*100,decimals=1)\n",
        "pca_perc_cl4 = np.around(size_cl4/size_total*100,decimals=1)\n",
        "print('Perc CL1 (bodoni data set) is:',pca_perc_cl1)\n",
        "print('Perc CL2 (eras data set) is:', pca_perc_cl2)\n",
        "print('Perc CL3 (gabriola data set) is:', pca_perc_cl3)\n",
        "print('Perc CL4 (technic data set) is:', pca_perc_cl4)"
      ],
      "execution_count": null,
      "outputs": [
        {
          "output_type": "stream",
          "name": "stdout",
          "text": [
            "Perc CL1 (bodoni data set) is: 23.5\n",
            "Perc CL2 (eras data set) is: 23.1\n",
            "Perc CL3 (gabriola data set) is: 20.8\n",
            "Perc CL4 (technic data set) is: 32.7\n"
          ]
        }
      ]
    },
    {
      "cell_type": "code",
      "metadata": {
        "id": "jHfLCeaSl0_L"
      },
      "source": [
        "pca_cl_size=[size_cl1,size_cl2,size_cl3,size_cl4]\n",
        "pca_cl_perc=[pca_perc_cl1,pca_perc_cl2,pca_perc_cl3,pca_perc_cl4]\n",
        "pca_cl_list=zip(pca_cl_size,pca_cl_perc)"
      ],
      "execution_count": null,
      "outputs": []
    },
    {
      "cell_type": "code",
      "metadata": {
        "colab": {
          "base_uri": "https://localhost:8080/",
          "height": 173
        },
        "id": "75vteu42lirE",
        "outputId": "1b6c81be-7d64-4641-b697-c02a74a6fab8"
      },
      "source": [
        "pca_cl_table=pd.DataFrame(pca_cl_list,columns=['Size of Class','Percentage of Class'],index =['CL1', 'CL2', 'CL3', 'CL4'])\n",
        "pca_cl_table"
      ],
      "execution_count": null,
      "outputs": [
        {
          "output_type": "execute_result",
          "data": {
            "text/html": [
              "<div>\n",
              "<style scoped>\n",
              "    .dataframe tbody tr th:only-of-type {\n",
              "        vertical-align: middle;\n",
              "    }\n",
              "\n",
              "    .dataframe tbody tr th {\n",
              "        vertical-align: top;\n",
              "    }\n",
              "\n",
              "    .dataframe thead th {\n",
              "        text-align: right;\n",
              "    }\n",
              "</style>\n",
              "<table border=\"1\" class=\"dataframe\">\n",
              "  <thead>\n",
              "    <tr style=\"text-align: right;\">\n",
              "      <th></th>\n",
              "      <th>Size of Class</th>\n",
              "      <th>Percentage of Class</th>\n",
              "    </tr>\n",
              "  </thead>\n",
              "  <tbody>\n",
              "    <tr>\n",
              "      <th>CL1</th>\n",
              "      <td>991</td>\n",
              "      <td>23.5</td>\n",
              "    </tr>\n",
              "    <tr>\n",
              "      <th>CL2</th>\n",
              "      <td>976</td>\n",
              "      <td>23.1</td>\n",
              "    </tr>\n",
              "    <tr>\n",
              "      <th>CL3</th>\n",
              "      <td>878</td>\n",
              "      <td>20.8</td>\n",
              "    </tr>\n",
              "    <tr>\n",
              "      <th>CL4</th>\n",
              "      <td>1380</td>\n",
              "      <td>32.7</td>\n",
              "    </tr>\n",
              "  </tbody>\n",
              "</table>\n",
              "</div>"
            ],
            "text/plain": [
              "     Size of Class  Percentage of Class\n",
              "CL1            991                 23.5\n",
              "CL2            976                 23.1\n",
              "CL3            878                 20.8\n",
              "CL4           1380                 32.7"
            ]
          },
          "metadata": {},
          "execution_count": 22
        }
      ]
    },
    {
      "cell_type": "markdown",
      "metadata": {
        "id": "9aESR6--Ai_R"
      },
      "source": [
        "**Comment:**\n",
        "\\\n",
        "With the result for size and percentage of each CLj above, we can tell that CL4 takes a large portion of our project. To avoid the bias, we will increase the size of other 3 CLs after split training sets and test sets. "
      ]
    },
    {
      "cell_type": "markdown",
      "metadata": {
        "id": "PPI6dyg7UC0U"
      },
      "source": [
        "####**1.2 Select a training set and a test set (80%/20%) in each class**####\n"
      ]
    },
    {
      "cell_type": "code",
      "metadata": {
        "id": "t2yib7JGWzZg"
      },
      "source": [
        "#split train and test data on each CL to ensure each class data is equally splited\n",
        "from sklearn.model_selection import train_test_split\n",
        "x1_train_ori, x1_test_ori, y1_train_ori, y1_test_ori = train_test_split(ZCL1.iloc[:,0:61], TRUC_1, test_size=0.2,random_state=5)\n",
        "x2_train_ori, x2_test_ori, y2_train_ori, y2_test_ori = train_test_split(ZCL2.iloc[:,0:61], TRUC_2, test_size=0.2,random_state=5)\n",
        "x3_train_ori, x3_test_ori, y3_train_ori, y3_test_ori = train_test_split(ZCL3.iloc[:,0:61], TRUC_3, test_size=0.2,random_state=5)\n",
        "x4_train_ori, x4_test_ori, y4_train_ori, y4_test_ori = train_test_split(ZCL4.iloc[:,0:61], TRUC_4, test_size=0.2,random_state=5)"
      ],
      "execution_count": null,
      "outputs": []
    },
    {
      "cell_type": "code",
      "metadata": {
        "colab": {
          "base_uri": "https://localhost:8080/"
        },
        "id": "6p3FHhXhXVrT",
        "outputId": "cd1ac5b7-2c93-4d63-9479-f5275d6d9314"
      },
      "source": [
        "#Compare again the shape of 4 training sets we are about to work with\n",
        "print (x1_train_ori.shape, x2_train_ori.shape, x3_train_ori.shape, x4_train_ori.shape)"
      ],
      "execution_count": null,
      "outputs": [
        {
          "output_type": "stream",
          "name": "stdout",
          "text": [
            "(792, 61) (780, 61) (702, 61) (1104, 61)\n"
          ]
        }
      ]
    },
    {
      "cell_type": "code",
      "metadata": {
        "colab": {
          "base_uri": "https://localhost:8080/"
        },
        "id": "CMrsaVU4WYQ2",
        "outputId": "133022ef-8170-46d9-95f2-a78b5fd8b6f4"
      },
      "source": [
        "print (x1_test_ori.shape, x2_test_ori.shape, x3_test_ori.shape, x4_test_ori.shape)"
      ],
      "execution_count": null,
      "outputs": [
        {
          "output_type": "stream",
          "name": "stdout",
          "text": [
            "(199, 61) (196, 61) (176, 61) (276, 61)\n"
          ]
        }
      ]
    },
    {
      "cell_type": "code",
      "metadata": {
        "colab": {
          "base_uri": "https://localhost:8080/"
        },
        "id": "AvyzntA-oPr0",
        "outputId": "f49c1c7c-448b-44a2-9ca5-282a02c838c7"
      },
      "source": [
        "print (y1_train_ori.shape, y2_train_ori.shape, y3_train_ori.shape, y4_train_ori.shape)"
      ],
      "execution_count": null,
      "outputs": [
        {
          "output_type": "stream",
          "name": "stdout",
          "text": [
            "(792,) (780,) (702,) (1104,)\n"
          ]
        }
      ]
    },
    {
      "cell_type": "code",
      "metadata": {
        "colab": {
          "base_uri": "https://localhost:8080/"
        },
        "id": "W4t9YPq0oTYh",
        "outputId": "94591efd-c319-4cf1-f25e-2153dc4399fa"
      },
      "source": [
        "print (y1_test_ori.shape, y2_test_ori.shape, y3_test_ori.shape, y4_test_ori.shape)"
      ],
      "execution_count": null,
      "outputs": [
        {
          "output_type": "stream",
          "name": "stdout",
          "text": [
            "(199,) (196,) (176,) (276,)\n"
          ]
        }
      ]
    },
    {
      "cell_type": "markdown",
      "metadata": {
        "id": "0js9syBIoBCV"
      },
      "source": [
        "**Comment:**\\\n",
        "x1_train_ori takes (792/ (792 + 780 + 702 + 1104)) = 23%\\\n",
        "x2_train_ori takes 23%\\\n",
        "x3_train_ori takes 21%\\\n",
        "x4_train_ori takes 33%\\\n",
        "**This suggests the same thing as 1.1. We will be cloning 3 CLs to increase the size for analysis purpose.**"
      ]
    },
    {
      "cell_type": "markdown",
      "metadata": {
        "id": "8opTewseXqUF"
      },
      "source": [
        "####**1.3 If the smallest percentages perc (j) is too far from 25% , like of the order of 17% or less, then increase the size of CLj by perturbed cloning (or by SMOTE). This creation of virtual cases must be done separately for the CLj training cases and for the CLj testing cases.**####\n"
      ]
    },
    {
      "cell_type": "code",
      "metadata": {
        "id": "6dt_vINSk-Kq"
      },
      "source": [
        "# Grouping Training set and testing set\n",
        "x_train_ori=pd.concat([x1_train_ori,x2_train_ori,x3_train_ori,x4_train_ori],axis=0).to_numpy()\n",
        "x_test_ori=pd.concat([x1_test_ori,x2_test_ori,x3_test_ori,x4_test_ori],axis=0).to_numpy()\n",
        "y_train_ori=np.concatenate((y1_train_ori,y2_train_ori,y3_train_ori,y4_train_ori),axis=0)\n",
        "y_test_ori=np.concatenate((y1_test_ori,y2_test_ori,y3_test_ori,y4_test_ori),axis=0)"
      ],
      "execution_count": null,
      "outputs": []
    },
    {
      "cell_type": "code",
      "metadata": {
        "id": "RTCj-5u4sZdz",
        "colab": {
          "base_uri": "https://localhost:8080/"
        },
        "outputId": "1d62c129-f63a-4e14-bd6c-c8e91f677301"
      },
      "source": [
        "# Import SMOTE function\n",
        "from imblearn.over_sampling import SMOTE \n",
        "sm = SMOTE(random_state=0)"
      ],
      "execution_count": null,
      "outputs": [
        {
          "output_type": "stream",
          "name": "stderr",
          "text": [
            "/usr/local/lib/python3.7/dist-packages/sklearn/externals/six.py:31: FutureWarning: The module is deprecated in version 0.21 and will be removed in version 0.23 since we've dropped support for Python 2.7. Please rely on the official version of six (https://pypi.org/project/six/).\n",
            "  \"(https://pypi.org/project/six/).\", FutureWarning)\n",
            "/usr/local/lib/python3.7/dist-packages/sklearn/utils/deprecation.py:144: FutureWarning: The sklearn.neighbors.base module is  deprecated in version 0.22 and will be removed in version 0.24. The corresponding classes / functions should instead be imported from sklearn.neighbors. Anything that cannot be imported from sklearn.neighbors is now part of the private API.\n",
            "  warnings.warn(message, FutureWarning)\n"
          ]
        }
      ]
    },
    {
      "cell_type": "code",
      "metadata": {
        "colab": {
          "base_uri": "https://localhost:8080/"
        },
        "id": "cj8FEVuNsdbE",
        "outputId": "a7025cde-016a-4059-e214-2f19cb806c07"
      },
      "source": [
        "# Perform SMOTE for training set\n",
        "X_sm_train, y_sm_train = sm.fit_resample(x_train_ori, y_train_ori)\n",
        "\n",
        "print(f'''Shape of X_train before SMOTE: {x_train_ori.shape}\n",
        "Shape of X_train after SMOTE: {X_sm_train.shape}''')\n",
        "\n",
        "print('\\nBalance of positive and negative classes (%):')\n",
        "y_sm_train_df = pd.DataFrame(y_sm_train)\n",
        "y_sm_train_df.value_counts(normalize = True) * 100"
      ],
      "execution_count": null,
      "outputs": [
        {
          "output_type": "stream",
          "name": "stderr",
          "text": [
            "/usr/local/lib/python3.7/dist-packages/sklearn/utils/deprecation.py:87: FutureWarning: Function safe_indexing is deprecated; safe_indexing is deprecated in version 0.22 and will be removed in version 0.24.\n",
            "  warnings.warn(msg, category=FutureWarning)\n",
            "/usr/local/lib/python3.7/dist-packages/sklearn/utils/deprecation.py:87: FutureWarning: Function safe_indexing is deprecated; safe_indexing is deprecated in version 0.22 and will be removed in version 0.24.\n",
            "  warnings.warn(msg, category=FutureWarning)\n",
            "/usr/local/lib/python3.7/dist-packages/sklearn/utils/deprecation.py:87: FutureWarning: Function safe_indexing is deprecated; safe_indexing is deprecated in version 0.22 and will be removed in version 0.24.\n",
            "  warnings.warn(msg, category=FutureWarning)\n"
          ]
        },
        {
          "output_type": "stream",
          "name": "stdout",
          "text": [
            "Shape of X_train before SMOTE: (3378, 61)\n",
            "Shape of X_train after SMOTE: (4416, 61)\n",
            "\n",
            "Balance of positive and negative classes (%):\n"
          ]
        },
        {
          "output_type": "execute_result",
          "data": {
            "text/plain": [
              "4    25.0\n",
              "3    25.0\n",
              "2    25.0\n",
              "1    25.0\n",
              "dtype: float64"
            ]
          },
          "metadata": {},
          "execution_count": 30
        }
      ]
    },
    {
      "cell_type": "code",
      "metadata": {
        "colab": {
          "base_uri": "https://localhost:8080/"
        },
        "id": "vuSJ-3aotSvr",
        "outputId": "e1e9580e-23c1-4b6e-b3f4-135ec4b88110"
      },
      "source": [
        "# Perform SMOTE for test set\n",
        "X_sm_test, y_sm_test = sm.fit_resample(x_test_ori, y_test_ori)\n",
        "\n",
        "print(f'''Shape of X_test before SMOTE: {x_test_ori.shape}\n",
        "Shape of X_test after SMOTE: {X_sm_test.shape}''')\n",
        "\n",
        "print('\\nBalance of positive and negative classes (%):')\n",
        "y_sm_test_df = pd.DataFrame(y_sm_test)\n",
        "y_sm_test_df.value_counts(normalize = True) * 100"
      ],
      "execution_count": null,
      "outputs": [
        {
          "output_type": "stream",
          "name": "stdout",
          "text": [
            "Shape of X_test before SMOTE: (847, 61)\n",
            "Shape of X_test after SMOTE: (1104, 61)\n",
            "\n",
            "Balance of positive and negative classes (%):\n"
          ]
        },
        {
          "output_type": "stream",
          "name": "stderr",
          "text": [
            "/usr/local/lib/python3.7/dist-packages/sklearn/utils/deprecation.py:87: FutureWarning: Function safe_indexing is deprecated; safe_indexing is deprecated in version 0.22 and will be removed in version 0.24.\n",
            "  warnings.warn(msg, category=FutureWarning)\n",
            "/usr/local/lib/python3.7/dist-packages/sklearn/utils/deprecation.py:87: FutureWarning: Function safe_indexing is deprecated; safe_indexing is deprecated in version 0.22 and will be removed in version 0.24.\n",
            "  warnings.warn(msg, category=FutureWarning)\n",
            "/usr/local/lib/python3.7/dist-packages/sklearn/utils/deprecation.py:87: FutureWarning: Function safe_indexing is deprecated; safe_indexing is deprecated in version 0.22 and will be removed in version 0.24.\n",
            "  warnings.warn(msg, category=FutureWarning)\n"
          ]
        },
        {
          "output_type": "execute_result",
          "data": {
            "text/plain": [
              "4    25.0\n",
              "3    25.0\n",
              "2    25.0\n",
              "1    25.0\n",
              "dtype: float64"
            ]
          },
          "metadata": {},
          "execution_count": 31
        }
      ]
    },
    {
      "cell_type": "markdown",
      "metadata": {
        "id": "qgDP3WDKtWPF"
      },
      "source": [
        "**Comments:**\\\n",
        "This SMOTE function increased CL1, CL2 and CL3 cases number to match with CL4, which has most cases, and did not drop a case. Here the SMOTE function was applied on training and testing data seprately, to ensure there are same percentage of \"clone\" data in training and testing dataset.   \n",
        "Eventually, the classes case quantities are perfectly balanced with 25% : 25% : 25% : 25%."
      ]
    },
    {
      "cell_type": "code",
      "metadata": {
        "colab": {
          "base_uri": "https://localhost:8080/"
        },
        "id": "3ZyoAjyvw44M",
        "outputId": "cd57b7bf-6275-4b23-ff1a-1407fa033658"
      },
      "source": [
        "#Generate the full training set TRAIN as the union of the four trainCLj for j=1,2,3,4. \n",
        "#Generate the full test set TEST as the union of the four testCLj.\n",
        "#Rename smote data as _train and _test for follow the friendly naming convention\n",
        "x_train=X_sm_train\n",
        "x_test=X_sm_test\n",
        "\n",
        "y_train=y_sm_train\n",
        "y_test=y_sm_test\n",
        "\n",
        "print('x_train shape is',x_train.shape,'x_test shape is',x_test.shape)"
      ],
      "execution_count": null,
      "outputs": [
        {
          "output_type": "stream",
          "name": "stdout",
          "text": [
            "x_train shape is (4416, 61) x_test shape is (1104, 61)\n"
          ]
        }
      ]
    },
    {
      "cell_type": "markdown",
      "metadata": {
        "id": "HcSfKuQpWY5P"
      },
      "source": [
        "**Comments:**\\\n",
        "From the results above, you can see that the shape of data set increases from 4225 to 5520, due to over sampling. The classes balance is perfect now with 25% : 25% : 25% : 25%."
      ]
    },
    {
      "cell_type": "markdown",
      "metadata": {
        "id": "8tJy1S8nY0zJ"
      },
      "source": [
        "####**1.4 regroup then all training sets across classes, and all testing sets across classes**####"
      ]
    },
    {
      "cell_type": "code",
      "metadata": {
        "colab": {
          "base_uri": "https://localhost:8080/"
        },
        "id": "z1IDMxnG56KB",
        "outputId": "512ef16a-d1af-4a1c-c533-07e6e2fd332b"
      },
      "source": [
        "# Since SMOTE was done on train and test data separately, there is no need to regroup data and re-split again. Just because required.\n",
        "# Combine X_sm_train, X_sm_test, y_sm_train, y_sm_test for big data\n",
        "x_new=np.concatenate((x_train,x_test),axis=0)\n",
        "y_new=np.concatenate((y_train,y_test),axis=0)\n",
        "\n",
        "DATA_new = pd.DataFrame(x_new)\n",
        "DATA_new['TRUC']= y_new\n",
        "DATA_new.shape"
      ],
      "execution_count": null,
      "outputs": [
        {
          "output_type": "execute_result",
          "data": {
            "text/plain": [
              "(5520, 62)"
            ]
          },
          "metadata": {},
          "execution_count": 33
        }
      ]
    },
    {
      "cell_type": "code",
      "metadata": {
        "id": "hIw1cuRUqUXn"
      },
      "source": [
        "# New CLi after SMOTE\n",
        "nCL1 = DATA_new[DATA_new['TRUC']==1]\n",
        "nCL2 = DATA_new[DATA_new['TRUC']==2]\n",
        "nCL3 = DATA_new[DATA_new['TRUC']==3]\n",
        "nCL4 = DATA_new[DATA_new['TRUC']==4]"
      ],
      "execution_count": null,
      "outputs": []
    },
    {
      "cell_type": "code",
      "metadata": {
        "id": "KFN3ml3wqWln"
      },
      "source": [
        "# new training sets and test sets after SMOKE\n",
        "from sklearn.model_selection import train_test_split\n",
        "x1_train, x1_test, y1_train, y1_test = train_test_split(nCL1.iloc[:,0:61], nCL1.iloc[:,61], test_size=0.2,random_state=5)\n",
        "x2_train, x2_test, y2_train, y2_test = train_test_split(nCL2.iloc[:,0:61], nCL2.iloc[:,61], test_size=0.2,random_state=5)\n",
        "x3_train, x3_test, y3_train, y3_test = train_test_split(nCL3.iloc[:,0:61], nCL3.iloc[:,61], test_size=0.2,random_state=5)\n",
        "x4_train, x4_test, y4_train, y4_test = train_test_split(nCL4.iloc[:,0:61], nCL4.iloc[:,61], test_size=0.2,random_state=5)"
      ],
      "execution_count": null,
      "outputs": []
    },
    {
      "cell_type": "code",
      "metadata": {
        "id": "NLIYNTS7qZAy",
        "colab": {
          "base_uri": "https://localhost:8080/"
        },
        "outputId": "36b3b2f8-487c-47b9-e98a-f697c981ca67"
      },
      "source": [
        "print (x1_train.shape, x2_train.shape, x3_train.shape, x4_train.shape)"
      ],
      "execution_count": null,
      "outputs": [
        {
          "output_type": "stream",
          "name": "stdout",
          "text": [
            "(1104, 61) (1104, 61) (1104, 61) (1104, 61)\n"
          ]
        }
      ]
    },
    {
      "cell_type": "code",
      "metadata": {
        "id": "I4eRe43lqblO",
        "colab": {
          "base_uri": "https://localhost:8080/"
        },
        "outputId": "744282eb-517f-4a26-d506-e9328f95c1de"
      },
      "source": [
        "#Generate the full training set TRAIN as the union of the four trainCLj for j=1,2,3,4. \n",
        "#Generate the full test set TEST as the union of the four testCLj.\n",
        "x_train=pd.concat([x1_train,x2_train,x3_train,x4_train],axis=0).to_numpy()\n",
        "x_test=pd.concat([x1_test,x2_test,x3_test,x4_test],axis=0).to_numpy()\n",
        "\n",
        "y_train=np.concatenate([y1_train,y2_train,y3_train,y4_train])\n",
        "y_test=np.concatenate([y1_test,y2_test,y3_test,y4_test])\n",
        "\n",
        "print('x_train shape is',x_train.shape,'x_test shape is',x_test.shape)"
      ],
      "execution_count": null,
      "outputs": [
        {
          "output_type": "stream",
          "name": "stdout",
          "text": [
            "x_train shape is (4416, 61) x_test shape is (1104, 61)\n"
          ]
        }
      ]
    },
    {
      "cell_type": "markdown",
      "metadata": {
        "id": "fW2_2PyyRLUu"
      },
      "source": [
        "#**2. Present the function of Random Forest**#"
      ]
    },
    {
      "cell_type": "markdown",
      "metadata": {
        "id": "IdZ03mvlRTS9"
      },
      "source": [
        "####**2.1 Outline algorithmic principles for basic Random Forest (RF).**###"
      ]
    },
    {
      "cell_type": "markdown",
      "metadata": {
        "id": "2QTj20dRlSWA"
      },
      "source": [
        "Random Forests (RF) use trees as building blocks to construct a powerful prediction model. It consists of a large number of decision trees that can be applied to both regression and classification problems.\\\n",
        "\\\n",
        "For a regression tree, the predicted response for an observation is given by the mean response of the training observations that belong to the same terminal node. For a classification tree, each observation is predicted that it belongs to the most commonly occurring class of training observations in the region to which it belongs.\\\n",
        "\\\n",
        "In random forest, number of decision trees was built in bootstrapped training sample, and a random subset of the features is taken into consideration by the algorithm for splitting a node. At each split of the tree, one feature of the random subset of features is selected to splitting node with the best threshold, which the goal is to minimize all the ginis* of the nodes at the split. If the data point meets the threshold, it goes into one branch else it goes into the other branch. The data point keeps moving down on the branches of tress until it is at the node that contains the classification the tree given the observation. This final node is also called the leaf of the tree.\\\n",
        "\\\n",
        "Prior to running the model, the user selects the number of trees created thus the process above continues until all trees are complete. It is important to note that each tree will use random subsets of features. Thus, there is a potential for a feature from the original dataset not to be a part of the random forest, and others are used multiple times. It should also be noted that the process will bootstrap on the training set. Random forest builds multiple decision trees and merges them together to get a more stable and accurate prediction.\\\n",
        "\\\n",
        "When a new observation is run through the random forest, it will go through all the decision tress. Each tree in the model will assign a class to the observation, and the most commonly occurring class among the trees is selected. The class of a new observation is defined when it reaches the leaf of a tree."
      ]
    },
    {
      "cell_type": "markdown",
      "metadata": {
        "id": "t_dgHT_mHfsN"
      },
      "source": [
        "###**2.2 Detailed presentation of the RF function that you will implement (your choice of Python of R). List inputs, parameters , options + detailed explanations for each. List outputs with detailed explanations for each output**###"
      ]
    },
    {
      "cell_type": "markdown",
      "metadata": {
        "id": "bvMuJf3glnys"
      },
      "source": [
        "In Python, the RandomForest() function is applied to train the TRAIN data (normally we split 80%/ 20% for TRAIN data and TEST data).\\\n",
        "\\\n",
        "The function is generated from a package in Python called sklearn. The code can be found below:\\\n",
        "\\\n",
        "**sklearn.ensemble.RandomForestClassifier**(n_estimators=100, criterion='gini', max_depth=None, min_samples_split=2, min_samples_leaf=1, min_weight_fraction_leaf=0.0, max_features='auto', max_leaf_nodes=None, min_impurity_decrease=0.0, bootstrap=True, oob_score=False, n_jobs=None, random_state=None, verbose=0, warm_start=False, class_weight=None, ccp_alpha=0.0, max_samples=None)\\\n",
        "\\\n",
        "**Some important Parameters:**\\\n",
        "\\\n",
        "**n_estimators(int, default=100):** The number of trees in the forest.\\\n",
        "\\\n",
        "**criterion{“gini”, “entropy”}, default=”gini”** The function to measure the quality of a split. Supported criteria are “gini” for the Gini impurity and “entropy” for the information gain. Note: this parameter is tree-specific.\\\n",
        "\\\n",
        "**max_depth: int, default=None** The maximum depth of the tree. If None, then nodes are expanded until all leaves are pure or until all leaves contain less than min_samples_split samples.\\\n",
        "\\\n",
        "**min_samples_leaf: int or float, default=1** The minimum number of samples required to be at a leaf node. A split point at any depth will only be considered if it leaves at least min_samples_leaf training samples in each of the left and right branches. This may have the effect of smoothing the model, especially in regression.\\\n",
        "\\\n",
        "**min_weight_fraction_leaffloat, default=0.0** The minimum weighted fraction of the sum total of weights (of all the input samples) required to be at a leaf node. Samples have equal weight when sample_weight is not provided.\\\n",
        "\\\n",
        "**max_features{“auto”, “sqrt”, “log2”}, int or float, default=”auto”** The number of features to consider when looking for the best split:\n",
        "Number of max features is usally set as sqrt(p). P is the total number of the features in the data set while number of decision tress(ntree) is chose randomly.\\\n",
        "\\\n",
        "**max_leaf_nodes: int, default=None** Grow trees with max_leaf_nodes in best-first fashion. Best nodes are defined as relative reduction in impurity. If None then unlimited number of leaf nodes.\\\n",
        "\\\n",
        "**bootstrap: bool, default=True** Whether bootstrap samples are used when building trees. If False, the whole dataset is used to build each tree.\\\n",
        "\\\n",
        "**random_state: int, RandomState instance or None, default=None** Controls both the randomness of the bootstrapping of the samples used when building trees (if bootstrap=True) and the sampling of the features to consider when looking for the best split at each node (if max_features < n_features). \\\n",
        "\\\n",
        "For classification tasks, the output of the random forest is the class selected by most trees."
      ]
    },
    {
      "cell_type": "markdown",
      "metadata": {
        "id": "wuPkJKCgfoax"
      },
      "source": [
        "###**2.3 Present the predict function associated to the RF function. List and explain its inputs and outputs**###"
      ]
    },
    {
      "cell_type": "markdown",
      "metadata": {
        "id": "0dii5fmzmLde"
      },
      "source": [
        "**rf.fit(X, y)** Build a forest of trees from the training set (X, y). X is the training input samples. Y is the target values. Returns: Fitted estimator.\n",
        "\n",
        "**rf. predict(X)** Predict class for X.The predicted class of an input sample is a vote by the trees in the forest, weighted by their probability estimates. That is, the predicted class is the one with highest mean probability estimate across the trees.This function can be used for both train set and test set to get y_train_predict (to compare with ori_y_train) and y_test_pred (to compare with ori_y_test). X is the input samples and y is the predicted classes.\n",
        "\n",
        "**score(X, y)** Return the mean accuracy on the given test data and labels.\n",
        "\n",
        "**accuracy_score**(y_test,y_pred_test) or (y_train, y_train_pred): return the accuracy for the y values. We can compute this to the the accuracy and check of the data set is over fitting or not.\n",
        "\n",
        "**confusion matrix**(y_test,y_pred_test) or (y_train, y_train_pred): provide the visualization to compary the outcomes. This function can be imported from sklearn package as well and presented with seaborn package."
      ]
    },
    {
      "cell_type": "markdown",
      "metadata": {
        "id": "e12YLraDHvjH"
      },
      "source": [
        "#**3. Initial Random Forest Implementation**#"
      ]
    },
    {
      "cell_type": "markdown",
      "metadata": {
        "id": "Z7M3xE741bUs"
      },
      "source": [
        "###**3.1. Fix RF parameters: ntree = numbers of trees = 100; ntry == sqrt (r) = features tried at each node Train the RF classifier on the training set , (classes CL1 …CL4 ), use only the r features Z1(n) … Zr (n) for each case “n\"**###"
      ]
    },
    {
      "cell_type": "code",
      "metadata": {
        "id": "ax4gu4FaK7HJ"
      },
      "source": [
        "# build RF classifier, ntree=100, ntry==sqrt(r)=sqrt(61)=8"
      ],
      "execution_count": null,
      "outputs": []
    },
    {
      "cell_type": "code",
      "metadata": {
        "id": "Ld18I55wTCXo"
      },
      "source": [
        "#%%timeit\n",
        "from sklearn.ensemble import RandomForestClassifier\n",
        "RF_model_100=RandomForestClassifier(n_estimators=100,max_features=8,random_state=1).fit(x_train,y_train)"
      ],
      "execution_count": null,
      "outputs": []
    },
    {
      "cell_type": "markdown",
      "metadata": {
        "id": "x5HLP2zxIjzj"
      },
      "source": [
        "###**3.2 Test the trained RF classifier on the test set. Display + Interpret :1.Global accuracy on train set and on test set. 2.Two confusion matrices : one for train set and one for test set.**###"
      ]
    },
    {
      "cell_type": "code",
      "metadata": {
        "id": "p5R1vgUBqRbH"
      },
      "source": [
        "# prediction on test data"
      ],
      "execution_count": null,
      "outputs": []
    },
    {
      "cell_type": "code",
      "metadata": {
        "colab": {
          "base_uri": "https://localhost:8080/"
        },
        "id": "Ej_CusG7qUXk",
        "outputId": "cfaa890b-5897-4355-d899-f73e0623a5f7"
      },
      "source": [
        "from sklearn.metrics import accuracy_score\n",
        "y_pred100_train=RF_model_100.predict(x_train)\n",
        "ACC100_train=accuracy_score(y_train,y_pred100_train)\n",
        "print(\"Global accuracy on train set:\",\"{:.3f}\".format(ACC100_train))\n",
        "y_pred100_test=RF_model_100.predict(x_test)\n",
        "ACC100_test=accuracy_score(y_test,y_pred100_test)\n",
        "print(\"Global accuracy on test set:\",\"{:.3f}\".format(ACC100_test))\n"
      ],
      "execution_count": null,
      "outputs": [
        {
          "output_type": "stream",
          "name": "stdout",
          "text": [
            "Global accuracy on train set: 0.984\n",
            "Global accuracy on test set: 0.893\n"
          ]
        }
      ]
    },
    {
      "cell_type": "code",
      "metadata": {
        "colab": {
          "base_uri": "https://localhost:8080/"
        },
        "id": "Wy3Khha04SBH",
        "outputId": "e7490351-fec8-4d44-8788-60f896e77f52"
      },
      "source": [
        "type(ACC100_test)"
      ],
      "execution_count": null,
      "outputs": [
        {
          "output_type": "execute_result",
          "data": {
            "text/plain": [
              "numpy.float64"
            ]
          },
          "metadata": {},
          "execution_count": 42
        }
      ]
    },
    {
      "cell_type": "markdown",
      "metadata": {
        "id": "dBrgdnCfKXl_"
      },
      "source": [
        "From the result , we can see the train accuracy is larger than test accuracy, but the ratio is not too far from 1. It's a good sign that no over fit for this model."
      ]
    },
    {
      "cell_type": "code",
      "metadata": {
        "id": "V9GgC8fcp2kH"
      },
      "source": [
        "# confusion matrix"
      ],
      "execution_count": null,
      "outputs": []
    },
    {
      "cell_type": "code",
      "metadata": {
        "colab": {
          "base_uri": "https://localhost:8080/",
          "height": 298
        },
        "id": "zTvr3eeJtC26",
        "outputId": "ed8a5dff-2f8e-474f-8ae4-14d84f909380"
      },
      "source": [
        "from sklearn.metrics import confusion_matrix\n",
        "import seaborn as sns\n",
        "cm_train100= confusion_matrix(y_train,y_pred100_train)\n",
        "sns.heatmap(cm_train100,annot=True,center= 0, cmap= 'RdBu',fmt='g').set_title('Confusion matrix of train set/Number of cases')"
      ],
      "execution_count": null,
      "outputs": [
        {
          "output_type": "execute_result",
          "data": {
            "text/plain": [
              "Text(0.5, 1.0, 'Confusion matrix of train set/Number of cases')"
            ]
          },
          "metadata": {},
          "execution_count": 44
        },
        {
          "output_type": "display_data",
          "data": {
            "image/png": "[encoded data removed]",
            "text/plain": [
              "<Figure size 432x288 with 2 Axes>"
            ]
          },
          "metadata": {
            "needs_background": "light"
          }
        }
      ]
    },
    {
      "cell_type": "code",
      "metadata": {
        "colab": {
          "base_uri": "https://localhost:8080/",
          "height": 298
        },
        "id": "F3geFO9TYtb_",
        "outputId": "c1eb9df5-3507-45dc-df06-7a2b939a8e48"
      },
      "source": [
        "cm_train100_percentage=cm_train100/(len(x_train)/4)*100\n",
        "sns.heatmap(cm_train100_percentage,annot=True,center= 0, cmap= 'RdBu',fmt='.3g').set_title('Confusion matrix of train set/Percentage of cases')"
      ],
      "execution_count": null,
      "outputs": [
        {
          "output_type": "execute_result",
          "data": {
            "text/plain": [
              "Text(0.5, 1.0, 'Confusion matrix of train set/Percentage of cases')"
            ]
          },
          "metadata": {},
          "execution_count": 45
        },
        {
          "output_type": "display_data",
          "data": {
            "image/png": "[encoded data removed]",
            "text/plain": [
              "<Figure size 432x288 with 2 Axes>"
            ]
          },
          "metadata": {
            "needs_background": "light"
          }
        }
      ]
    },
    {
      "cell_type": "markdown",
      "metadata": {
        "id": "5pQqqQVjLRc4"
      },
      "source": [
        "From the matrix of train set, we can find the number in the dark blue means the true predictions for train data, so the accuracy of train set is (1.1e+03)*4/4473=4400/4473=0.984."
      ]
    },
    {
      "cell_type": "code",
      "metadata": {
        "colab": {
          "base_uri": "https://localhost:8080/",
          "height": 298
        },
        "id": "jqarHXSSvCQy",
        "outputId": "edf58212-d949-43b0-ace1-49c1f9c9860c"
      },
      "source": [
        "cm_test100= confusion_matrix(y_test,y_pred100_test)\n",
        "sns.heatmap(cm_test100,annot=True,center= 0, cmap= 'RdBu',fmt='g').set_title('Confusion Matrix of Test Set/Number of Cases')"
      ],
      "execution_count": null,
      "outputs": [
        {
          "output_type": "execute_result",
          "data": {
            "text/plain": [
              "Text(0.5, 1.0, 'Confusion Matrix of Test Set/Number of Cases')"
            ]
          },
          "metadata": {},
          "execution_count": 46
        },
        {
          "output_type": "display_data",
          "data": {
            "image/png": "[encoded data removed]",
            "text/plain": [
              "<Figure size 432x288 with 2 Axes>"
            ]
          },
          "metadata": {
            "needs_background": "light"
          }
        }
      ]
    },
    {
      "cell_type": "code",
      "metadata": {
        "colab": {
          "base_uri": "https://localhost:8080/",
          "height": 298
        },
        "id": "5zJJ9pshZ44Y",
        "outputId": "b0ffc745-55c6-4558-a0ae-c21a56334575"
      },
      "source": [
        "cm_test100_percentage=cm_test100/(len(x_test)/4)*100\n",
        "sns.heatmap(cm_test100_percentage,annot=True,center= 0, cmap= 'RdBu',fmt='.3g').set_title('Confusion Matrix of Test Set/Percentage of Cases')"
      ],
      "execution_count": null,
      "outputs": [
        {
          "output_type": "execute_result",
          "data": {
            "text/plain": [
              "Text(0.5, 1.0, 'Confusion Matrix of Test Set/Percentage of Cases')"
            ]
          },
          "metadata": {},
          "execution_count": 47
        },
        {
          "output_type": "display_data",
          "data": {
            "image/png": "[encoded data removed]",
            "text/plain": [
              "<Figure size 432x288 with 2 Axes>"
            ]
          },
          "metadata": {
            "needs_background": "light"
          }
        }
      ]
    },
    {
      "cell_type": "markdown",
      "metadata": {
        "id": "3qMsbgNLN6Eg"
      },
      "source": [
        "From the matrix of train set, we can find the number in the dark blue means the true predictions for test data, so the accuracy of test set is (240+250+260+250)/1107==0.903."
      ]
    },
    {
      "cell_type": "markdown",
      "metadata": {
        "id": "G894nLb02IIJ"
      },
      "source": [
        "#**4. Hyper parameters fine-tune**#"
      ]
    },
    {
      "cell_type": "markdown",
      "metadata": {
        "id": "NxsyjMpB2LEc"
      },
      "source": [
        "###**4.1 Launch again an RF classifier with ntry = sqrt (r) , but with n trees = 200 and ntrees = 300.**###"
      ]
    },
    {
      "cell_type": "code",
      "metadata": {
        "id": "6SkS_YnS4kor",
        "colab": {
          "base_uri": "https://localhost:8080/"
        },
        "outputId": "2cc3f3aa-51de-4fe4-9dd9-a981e75972fa"
      },
      "source": [
        "# n trees=200\n",
        "RF_model_200=RandomForestClassifier(n_estimators=200,max_features=8,random_state=1).fit(x_train,y_train)\n",
        "y_pred200_train=RF_model_200.predict(x_train)\n",
        "ACC200_train=accuracy_score(y_train,y_pred200_train)\n",
        "print(\"Global accuracy on train set:\",\"{:.3f}\".format(ACC200_train))\n",
        "y_pred200_test=RF_model_200.predict(x_test)\n",
        "ACC200_test=accuracy_score(y_test,y_pred200_test)\n",
        "print(\"Global accuracy on test set:\",\"{:.3f}\".format(ACC200_test))\n"
      ],
      "execution_count": null,
      "outputs": [
        {
          "output_type": "stream",
          "name": "stdout",
          "text": [
            "Global accuracy on train set: 0.984\n",
            "Global accuracy on test set: 0.902\n"
          ]
        }
      ]
    },
    {
      "cell_type": "code",
      "metadata": {
        "id": "HxkbhWTX7Uam",
        "colab": {
          "base_uri": "https://localhost:8080/"
        },
        "outputId": "7b32d5d1-fabe-4c2b-c352-cae07ee5f627"
      },
      "source": [
        "# n trees=300\n",
        "RF_model_300=RandomForestClassifier(n_estimators=300,max_features=8,random_state=7).fit(x_train,y_train)\n",
        "y_pred300_train=RF_model_300.predict(x_train)\n",
        "ACC300_train=accuracy_score(y_train,y_pred300_train)\n",
        "print(\"Global accuracy on train set:\",\"{:.3f}\".format(ACC300_train))\n",
        "y_pred300_test=RF_model_300.predict(x_test)\n",
        "ACC300_test=accuracy_score(y_test,y_pred300_test)\n",
        "print(\"Global accuracy on test set:\",\"{:.3f}\".format(ACC300_test))"
      ],
      "execution_count": null,
      "outputs": [
        {
          "output_type": "stream",
          "name": "stdout",
          "text": [
            "Global accuracy on train set: 0.984\n",
            "Global accuracy on test set: 0.905\n"
          ]
        }
      ]
    },
    {
      "cell_type": "markdown",
      "metadata": {
        "id": "FfXwCet72RK5"
      },
      "source": [
        "###**4.2 select the best number of trees = ntree * among 100, 200,300 by comparing accuracies on test set.**###"
      ]
    },
    {
      "cell_type": "markdown",
      "metadata": {
        "id": "pOEJIr048JBw"
      },
      "source": [
        "From the result of three accuracy, Margin of perfermance is sqrt[(perfermance*(1-perfermance)/testsize]. So the model_1 margin is sqrt[0.903*(1-0.903)/1104]=0.89%, model_2 margin is sqrt[0.906*(1-0.906)/1104]=0.88%,model_3 margin is sqrt[0.907*(1-0.907)/1104]=0.87%.Then we can compute the 90% confidence interval for them. CI for model_1 accuracy=0.903 +/- 1.6*0.89%=[0.889,0.917],CI for model_2 accuracy =0.906 +/- 1.6*0.88%=[0.892,0.920],CI for model_3 accuracy=0.907+/- 1.6*0.87%=[0.893,0.921]Based on the result above, we find that the accuracy of three model i not significant  when n trees=300, the global accuracy is better."
      ]
    },
    {
      "cell_type": "code",
      "metadata": {
        "id": "rIm7Uh7EFH1z"
      },
      "source": [
        "k=[100,200,300]\n",
        "ACCTrain=np.around([ACC100_train,ACC200_train,ACC300_train],decimals=3)\n",
        "AccTest=np.around([ACC100_test,ACC200_test,ACC300_test],decimals=3)"
      ],
      "execution_count": null,
      "outputs": []
    },
    {
      "cell_type": "code",
      "metadata": {
        "id": "N8JsdjIuruLc"
      },
      "source": [
        "AccTest_margin=np.sqrt(AccTest*(1-AccTest)/len(x_test))\n",
        "AccTest_margin_plus=AccTest+1.6*AccTest_margin\n",
        "AccTest_margin_minus=AccTest-1.6*AccTest_margin"
      ],
      "execution_count": null,
      "outputs": []
    },
    {
      "cell_type": "code",
      "metadata": {
        "id": "7ShBZeamtigi",
        "colab": {
          "base_uri": "https://localhost:8080/",
          "height": 279
        },
        "outputId": "025ec7f3-07c9-48a5-e3ad-be1c309e86d2"
      },
      "source": [
        "#n=list(range(1,iterations+1))\n",
        "import matplotlib.pyplot as plt\n",
        "fig,ax=plt.subplots()\n",
        "ax.fill_between(k,AccTest_margin_minus,AccTest_margin_plus,color='c',alpha=.1,label=\"Margin of test Acc\")\n",
        "plt.plot(k,ACCTrain,label=\"Accuracy of training set\")\n",
        "plt.plot(k,AccTest,label=\"Accuracy of test set\")\n",
        "plt.xlabel('k')\n",
        "plt.ylabel('accuracy')\n",
        "#plt.axis([100,300,0.86,0.99])\n",
        "plt.legend(loc=\"center left\")\n",
        "plt.show()"
      ],
      "execution_count": null,
      "outputs": [
        {
          "output_type": "display_data",
          "data": {
            "image/png": "[encoded data removed]",
            "text/plain": [
              "<Figure size 432x288 with 1 Axes>"
            ]
          },
          "metadata": {
            "needs_background": "light"
          }
        }
      ]
    },
    {
      "cell_type": "markdown",
      "metadata": {
        "id": "KFr9KKGl8A8w"
      },
      "source": [
        "#### Measure the run time of RF by this PCA data ###"
      ]
    },
    {
      "cell_type": "code",
      "metadata": {
        "colab": {
          "base_uri": "https://localhost:8080/"
        },
        "id": "QBTMSW1_7UMb",
        "outputId": "2135a1c5-c7fd-4aca-8426-192269c8cff8"
      },
      "source": [
        "%%timeit\n",
        "from sklearn.ensemble import RandomForestClassifier\n",
        "RF_model_100=RandomForestClassifier(n_estimators=100,max_features=8,random_state=1).fit(x_train,y_train)"
      ],
      "execution_count": null,
      "outputs": [
        {
          "output_type": "stream",
          "name": "stdout",
          "text": [
            "1 loop, best of 5: 2.87 s per loop\n"
          ]
        }
      ]
    },
    {
      "cell_type": "code",
      "metadata": {
        "colab": {
          "base_uri": "https://localhost:8080/"
        },
        "id": "eAk7InE97QDt",
        "outputId": "1eb58053-8d87-4a6f-e848-2b62e3df1605"
      },
      "source": [
        "%%timeit\n",
        "from sklearn.ensemble import RandomForestClassifier\n",
        "RF_model_200=RandomForestClassifier(n_estimators=200,max_features=8,random_state=1).fit(x_train,y_train)"
      ],
      "execution_count": null,
      "outputs": [
        {
          "output_type": "stream",
          "name": "stdout",
          "text": [
            "1 loop, best of 5: 5.76 s per loop\n"
          ]
        }
      ]
    },
    {
      "cell_type": "code",
      "metadata": {
        "colab": {
          "base_uri": "https://localhost:8080/"
        },
        "id": "NmORFRHq7_MA",
        "outputId": "a32b7ccf-d397-482b-c230-e1af0801f6dd"
      },
      "source": [
        "%%timeit\n",
        "from sklearn.ensemble import RandomForestClassifier\n",
        "RF_model_300=RandomForestClassifier(n_estimators=300,max_features=8,random_state=1).fit(x_train,y_train)"
      ],
      "execution_count": null,
      "outputs": [
        {
          "output_type": "stream",
          "name": "stdout",
          "text": [
            "1 loop, best of 5: 8.63 s per loop\n"
          ]
        }
      ]
    },
    {
      "cell_type": "markdown",
      "metadata": {
        "id": "qzrz9tKAe-A2"
      },
      "source": [
        "####Run time for PCA_data is 8.86s (ntrees=300), and compare run time of PCA_data with original data which has 400 features.####\n"
      ]
    },
    {
      "cell_type": "code",
      "metadata": {
        "id": "bzB8YAclnRc6"
      },
      "source": [
        "from sklearn.model_selection import train_test_split\n",
        "X1_train_ori, X1_test_ori, Y1_train_ori, Y1_test_ori = train_test_split(df_CL1_n, TRUC_1, test_size=0.2,random_state=5)\n",
        "X2_train_ori, X2_test_ori, Y2_train_ori, Y2_test_ori = train_test_split(df_CL2_n, TRUC_2, test_size=0.2,random_state=5)\n",
        "X3_train_ori, X3_test_ori, Y3_train_ori, Y3_test_ori = train_test_split(df_CL3_n, TRUC_3, test_size=0.2,random_state=5)\n",
        "X4_train_ori, X4_test_ori, Y4_train_ori, Y4_test_ori = train_test_split(df_CL4_n, TRUC_4, test_size=0.2,random_state=5)\n",
        "# Grouping Training set and testing set\n",
        "X_train_ori=pd.concat([X1_train_ori,X2_train_ori,X3_train_ori,X4_train_ori],axis=0).to_numpy()\n",
        "X_test_ori=pd.concat([X1_test_ori,X2_test_ori,X3_test_ori,X4_test_ori],axis=0).to_numpy()\n",
        "Y_train_ori=np.concatenate([Y1_train_ori,Y2_train_ori,Y3_train_ori,Y4_train_ori])\n",
        "Y_test_ori=np.concatenate([Y1_test_ori,Y2_test_ori,Y3_test_ori,Y4_test_ori])\n"
      ],
      "execution_count": null,
      "outputs": []
    },
    {
      "cell_type": "code",
      "metadata": {
        "colab": {
          "base_uri": "https://localhost:8080/"
        },
        "id": "2aZGlax9_17V",
        "outputId": "5f4332c5-3536-4435-e4b0-4ded73941049"
      },
      "source": [
        "from imblearn.over_sampling import SMOTE \n",
        "sm1 = SMOTE(random_state=1)\n",
        "# perform SMOTE function on both train and test data\n",
        "XX_sm_train, yy_sm_train = sm1.fit_resample(X_train_ori, Y_train_ori)\n",
        "XX_sm_test, yy_sm_test = sm1.fit_resample(X_test_ori, Y_test_ori)\n",
        "XX_sm_train = pd.DataFrame(XX_sm_train)\n",
        "XX_sm_test = pd.DataFrame(XX_sm_test)"
      ],
      "execution_count": null,
      "outputs": [
        {
          "output_type": "stream",
          "name": "stderr",
          "text": [
            "/usr/local/lib/python3.7/dist-packages/sklearn/utils/deprecation.py:87: FutureWarning: Function safe_indexing is deprecated; safe_indexing is deprecated in version 0.22 and will be removed in version 0.24.\n",
            "  warnings.warn(msg, category=FutureWarning)\n",
            "/usr/local/lib/python3.7/dist-packages/sklearn/utils/deprecation.py:87: FutureWarning: Function safe_indexing is deprecated; safe_indexing is deprecated in version 0.22 and will be removed in version 0.24.\n",
            "  warnings.warn(msg, category=FutureWarning)\n",
            "/usr/local/lib/python3.7/dist-packages/sklearn/utils/deprecation.py:87: FutureWarning: Function safe_indexing is deprecated; safe_indexing is deprecated in version 0.22 and will be removed in version 0.24.\n",
            "  warnings.warn(msg, category=FutureWarning)\n",
            "/usr/local/lib/python3.7/dist-packages/sklearn/utils/deprecation.py:87: FutureWarning: Function safe_indexing is deprecated; safe_indexing is deprecated in version 0.22 and will be removed in version 0.24.\n",
            "  warnings.warn(msg, category=FutureWarning)\n",
            "/usr/local/lib/python3.7/dist-packages/sklearn/utils/deprecation.py:87: FutureWarning: Function safe_indexing is deprecated; safe_indexing is deprecated in version 0.22 and will be removed in version 0.24.\n",
            "  warnings.warn(msg, category=FutureWarning)\n",
            "/usr/local/lib/python3.7/dist-packages/sklearn/utils/deprecation.py:87: FutureWarning: Function safe_indexing is deprecated; safe_indexing is deprecated in version 0.22 and will be removed in version 0.24.\n",
            "  warnings.warn(msg, category=FutureWarning)\n"
          ]
        }
      ]
    },
    {
      "cell_type": "code",
      "metadata": {
        "id": "jO7Lbojq85xP"
      },
      "source": [
        "from sklearn.ensemble import RandomForestClassifier\n",
        "RF_model_300_400feature=RandomForestClassifier(n_estimators=300,max_features=20,random_state=2).fit(XX_sm_train,yy_sm_train)"
      ],
      "execution_count": null,
      "outputs": []
    },
    {
      "cell_type": "code",
      "metadata": {
        "colab": {
          "base_uri": "https://localhost:8080/"
        },
        "id": "HmFkpR0c9ZCN",
        "outputId": "75a8425c-4045-46a6-c002-5c2062408dbd"
      },
      "source": [
        "from sklearn.metrics import accuracy_score\n",
        "y_pred300_train400feature=RF_model_300_400feature.predict(XX_sm_train)\n",
        "print(\"Global accuracy on train set:\",accuracy_score(yy_sm_train,y_pred300_train400feature))\n",
        "y_pred300_test400feature=RF_model_300_400feature.predict(XX_sm_test)\n",
        "print(\"Global accuracy on test set:\",accuracy_score(yy_sm_test,y_pred300_test400feature))"
      ],
      "execution_count": null,
      "outputs": [
        {
          "output_type": "stream",
          "name": "stdout",
          "text": [
            "Global accuracy on train set: 0.9861865942028986\n",
            "Global accuracy on test set: 0.8922101449275363\n"
          ]
        }
      ]
    },
    {
      "cell_type": "code",
      "metadata": {
        "colab": {
          "base_uri": "https://localhost:8080/"
        },
        "id": "lmacnWVY73t_",
        "outputId": "dc3e36cc-0757-4b42-d923-fbffc2de2aba"
      },
      "source": [
        "%%timeit\n",
        "from sklearn.ensemble import RandomForestClassifier\n",
        "RF_model_100_400feature=RandomForestClassifier(n_estimators=100,max_features=20,random_state=2).fit(XX_sm_train,yy_sm_train)"
      ],
      "execution_count": null,
      "outputs": [
        {
          "output_type": "stream",
          "name": "stdout",
          "text": [
            "1 loop, best of 5: 2.51 s per loop\n"
          ]
        }
      ]
    },
    {
      "cell_type": "code",
      "metadata": {
        "colab": {
          "base_uri": "https://localhost:8080/"
        },
        "id": "Ui1KlC2o7zl9",
        "outputId": "808728f6-de10-4eb1-d6c3-427e75936f34"
      },
      "source": [
        "%%timeit\n",
        "from sklearn.ensemble import RandomForestClassifier\n",
        "RF_model_200_400feature=RandomForestClassifier(n_estimators=200,max_features=20,random_state=2).fit(XX_sm_train,yy_sm_train)"
      ],
      "execution_count": null,
      "outputs": [
        {
          "output_type": "stream",
          "name": "stdout",
          "text": [
            "1 loop, best of 5: 5.04 s per loop\n"
          ]
        }
      ]
    },
    {
      "cell_type": "code",
      "metadata": {
        "colab": {
          "base_uri": "https://localhost:8080/"
        },
        "id": "T2sDsLCo4a6B",
        "outputId": "febfba85-4a0b-4044-c55f-884a50e9e716"
      },
      "source": [
        "%%timeit\n",
        "from sklearn.ensemble import RandomForestClassifier\n",
        "RF_model_300_400feature=RandomForestClassifier(n_estimators=300,max_features=20,random_state=2).fit(XX_sm_train,yy_sm_train)"
      ],
      "execution_count": null,
      "outputs": [
        {
          "output_type": "stream",
          "name": "stdout",
          "text": [
            "1 loop, best of 5: 7.59 s per loop\n"
          ]
        }
      ]
    },
    {
      "cell_type": "code",
      "metadata": {
        "colab": {
          "base_uri": "https://localhost:8080/"
        },
        "id": "0TbOBfKs81Qi",
        "outputId": "61d433ab-0898-4185-acea-73628a8e4638"
      },
      "source": [
        "from sklearn.metrics import accuracy_score\n",
        "RF_model_100_400feature=RandomForestClassifier(n_estimators=100,max_features=20,random_state=2).fit(XX_sm_train,yy_sm_train)\n",
        "y_pred100_test400feature=RF_model_100_400feature.predict(XX_sm_test)\n",
        "print(\"Acc_test_n=100_features=400:\",accuracy_score(yy_sm_test,y_pred100_test400feature))"
      ],
      "execution_count": null,
      "outputs": [
        {
          "output_type": "stream",
          "name": "stdout",
          "text": [
            "Acc_test_n=100_features=400: 0.8885869565217391\n"
          ]
        }
      ]
    },
    {
      "cell_type": "code",
      "metadata": {
        "colab": {
          "base_uri": "https://localhost:8080/"
        },
        "id": "Mvh7S1pe9aCQ",
        "outputId": "e0dc21af-4448-462d-fa94-a30413a31723"
      },
      "source": [
        "from sklearn.metrics import accuracy_score\n",
        "RF_model_200_400feature=RandomForestClassifier(n_estimators=200,max_features=20,random_state=2).fit(XX_sm_train,yy_sm_train)\n",
        "y_pred200_test400feature=RF_model_200_400feature.predict(XX_sm_test)\n",
        "print(\"Acc_test_n=200_features=400:\",accuracy_score(yy_sm_test,y_pred200_test400feature))"
      ],
      "execution_count": null,
      "outputs": [
        {
          "output_type": "stream",
          "name": "stdout",
          "text": [
            "Acc_test_n=200_features=400: 0.8885869565217391\n"
          ]
        }
      ]
    },
    {
      "cell_type": "code",
      "metadata": {
        "colab": {
          "base_uri": "https://localhost:8080/"
        },
        "id": "zu4p_UM59uUC",
        "outputId": "ca1a9364-4752-45fa-c773-4b909396e828"
      },
      "source": [
        "from sklearn.metrics import accuracy_score\n",
        "RF_model_300_400feature=RandomForestClassifier(n_estimators=300,max_features=20,random_state=2).fit(XX_sm_train,yy_sm_train)\n",
        "y_pred300_test400feature=RF_model_300_400feature.predict(XX_sm_test)\n",
        "print(\"Acc_test_n=300_features=400:\",accuracy_score(yy_sm_test,y_pred300_test400feature))"
      ],
      "execution_count": null,
      "outputs": [
        {
          "output_type": "stream",
          "name": "stdout",
          "text": [
            "Acc_test_n=300_features=400: 0.8922101449275363\n"
          ]
        }
      ]
    },
    {
      "cell_type": "markdown",
      "metadata": {
        "id": "_VlzgHHq2dd_"
      },
      "source": [
        "#**5. Discussion of Importance of Features**#"
      ]
    },
    {
      "cell_type": "markdown",
      "metadata": {
        "id": "_BuBuVmT2hac"
      },
      "source": [
        "###**5.1 Let RF* be the best RF classifier selected in question 4 ; For RF* compute the importances IM1 … IM10 of features Z 1 … Z10. Explain the meaning of these IMk ; Display them on a graph.**###"
      ]
    },
    {
      "cell_type": "code",
      "metadata": {
        "id": "UJRLiidIPehs"
      },
      "source": [
        "from sklearn.inspection import permutation_importance\n",
        "from sklearn.ensemble import RandomForestRegressor\n"
      ],
      "execution_count": null,
      "outputs": []
    },
    {
      "cell_type": "code",
      "metadata": {
        "id": "UPVh0ot6Prm9",
        "colab": {
          "base_uri": "https://localhost:8080/"
        },
        "outputId": "42e74dea-cf2d-4b97-aa95-9a36ca05b541"
      },
      "source": [
        "rf = RandomForestRegressor(n_estimators=300)\n",
        "rf.fit(x_train, y_train)"
      ],
      "execution_count": null,
      "outputs": [
        {
          "output_type": "execute_result",
          "data": {
            "text/plain": [
              "RandomForestRegressor(bootstrap=True, ccp_alpha=0.0, criterion='mse',\n",
              "                      max_depth=None, max_features='auto', max_leaf_nodes=None,\n",
              "                      max_samples=None, min_impurity_decrease=0.0,\n",
              "                      min_impurity_split=None, min_samples_leaf=1,\n",
              "                      min_samples_split=2, min_weight_fraction_leaf=0.0,\n",
              "                      n_estimators=300, n_jobs=None, oob_score=False,\n",
              "                      random_state=None, verbose=0, warm_start=False)"
            ]
          },
          "metadata": {},
          "execution_count": 70
        }
      ]
    },
    {
      "cell_type": "code",
      "metadata": {
        "id": "iF_5ixloQkM4",
        "colab": {
          "base_uri": "https://localhost:8080/"
        },
        "outputId": "bfe2cd31-67b7-4c6b-c366-5b503204e9d2"
      },
      "source": [
        "rf.feature_importances_"
      ],
      "execution_count": null,
      "outputs": [
        {
          "output_type": "execute_result",
          "data": {
            "text/plain": [
              "array([0.1309318 , 0.12964698, 0.05886811, 0.02628017, 0.01193927,\n",
              "       0.01101543, 0.0163556 , 0.01383742, 0.0169997 , 0.01452222,\n",
              "       0.02111061, 0.01396311, 0.01452273, 0.01569144, 0.01670074,\n",
              "       0.00853533, 0.01256797, 0.01886748, 0.01222558, 0.01139174,\n",
              "       0.01094376, 0.00866692, 0.01104609, 0.02632764, 0.01224467,\n",
              "       0.01216705, 0.01233727, 0.01094207, 0.01033319, 0.01044186,\n",
              "       0.00926253, 0.01174265, 0.00909941, 0.00766944, 0.00745616,\n",
              "       0.00762455, 0.00855935, 0.01629386, 0.01125259, 0.0070692 ,\n",
              "       0.00833599, 0.007144  , 0.01458673, 0.00753238, 0.01533745,\n",
              "       0.01235123, 0.00954785, 0.0135783 , 0.00914585, 0.00842822,\n",
              "       0.00694446, 0.00836223, 0.00881718, 0.00870507, 0.00816711,\n",
              "       0.00721786, 0.01218138, 0.00768119, 0.00920367, 0.01055748,\n",
              "       0.00872066])"
            ]
          },
          "metadata": {},
          "execution_count": 71
        }
      ]
    },
    {
      "cell_type": "code",
      "metadata": {
        "id": "4xdrMkruRt5s"
      },
      "source": [
        "rf_imp=rf.feature_importances_\n",
        "rf_imp_descend=np.sort(rf_imp)[::-1]\n",
        "rf_imp_index=np.argsort(-rf_imp)\n",
        "rf_imp_descend10=rf_imp_descend[0:10]"
      ],
      "execution_count": null,
      "outputs": []
    },
    {
      "cell_type": "code",
      "metadata": {
        "id": "njrBtN_5oGOX",
        "colab": {
          "base_uri": "https://localhost:8080/"
        },
        "outputId": "4633f454-2e9c-4400-e996-932b4c6891b5"
      },
      "source": [
        "rf_imp_descend[11:62]"
      ],
      "execution_count": null,
      "outputs": [
        {
          "output_type": "execute_result",
          "data": {
            "text/plain": [
              "array([0.01569144, 0.01533745, 0.01458673, 0.01452273, 0.01452222,\n",
              "       0.01396311, 0.01383742, 0.0135783 , 0.01256797, 0.01235123,\n",
              "       0.01233727, 0.01224467, 0.01222558, 0.01218138, 0.01216705,\n",
              "       0.01193927, 0.01174265, 0.01139174, 0.01125259, 0.01104609,\n",
              "       0.01101543, 0.01094376, 0.01094207, 0.01055748, 0.01044186,\n",
              "       0.01033319, 0.00954785, 0.00926253, 0.00920367, 0.00914585,\n",
              "       0.00909941, 0.00881718, 0.00872066, 0.00870507, 0.00866692,\n",
              "       0.00855935, 0.00853533, 0.00842822, 0.00836223, 0.00833599,\n",
              "       0.00816711, 0.00768119, 0.00766944, 0.00762455, 0.00753238,\n",
              "       0.00745616, 0.00721786, 0.007144  , 0.0070692 , 0.00694446])"
            ]
          },
          "metadata": {},
          "execution_count": 73
        }
      ]
    },
    {
      "cell_type": "code",
      "metadata": {
        "id": "3b_APH4Wneba",
        "colab": {
          "base_uri": "https://localhost:8080/"
        },
        "outputId": "5b052ce8-81e0-40e5-e3ce-dc7185ac446b"
      },
      "source": [
        "rf_imp_descend[11:62].mean()"
      ],
      "execution_count": null,
      "outputs": [
        {
          "output_type": "execute_result",
          "data": {
            "text/plain": [
              "0.01043234648380741"
            ]
          },
          "metadata": {},
          "execution_count": 74
        }
      ]
    },
    {
      "cell_type": "code",
      "metadata": {
        "id": "RNOEggr3njeh",
        "colab": {
          "base_uri": "https://localhost:8080/"
        },
        "outputId": "e1459d5e-5c60-4906-ea87-4eca46618d9d"
      },
      "source": [
        "rf_imp_descend[11:62].std()"
      ],
      "execution_count": null,
      "outputs": [
        {
          "output_type": "execute_result",
          "data": {
            "text/plain": [
              "0.0024344191468854384"
            ]
          },
          "metadata": {},
          "execution_count": 75
        }
      ]
    },
    {
      "cell_type": "code",
      "metadata": {
        "id": "s-L1-GC7oeXS",
        "colab": {
          "base_uri": "https://localhost:8080/"
        },
        "outputId": "df938e74-c976-4990-8e6b-f333c5334a7e"
      },
      "source": [
        "rf_imp_descend.min()"
      ],
      "execution_count": null,
      "outputs": [
        {
          "output_type": "execute_result",
          "data": {
            "text/plain": [
              "0.006944463163180546"
            ]
          },
          "metadata": {},
          "execution_count": 76
        }
      ]
    },
    {
      "cell_type": "code",
      "metadata": {
        "id": "gMJ1NbMKFE-u",
        "colab": {
          "base_uri": "https://localhost:8080/"
        },
        "outputId": "f2b0987c-8d65-43fd-9661-7c4abbfb5f33"
      },
      "source": [
        "rf_imp_index[0:10]"
      ],
      "execution_count": null,
      "outputs": [
        {
          "output_type": "execute_result",
          "data": {
            "text/plain": [
              "array([ 0,  1,  2, 23,  3, 10, 17,  8, 14,  6])"
            ]
          },
          "metadata": {},
          "execution_count": 77
        }
      ]
    },
    {
      "cell_type": "code",
      "metadata": {
        "id": "Y_QtgzlyQ4Oh"
      },
      "source": [
        "\n",
        "from matplotlib import pyplot as plt"
      ],
      "execution_count": null,
      "outputs": []
    },
    {
      "cell_type": "code",
      "metadata": {
        "id": "TVYyimFi4PZM",
        "colab": {
          "base_uri": "https://localhost:8080/"
        },
        "outputId": "709b706b-004d-4f69-b5f8-d4458fda591c"
      },
      "source": [
        "rf_imp_descend[0:10]"
      ],
      "execution_count": null,
      "outputs": [
        {
          "output_type": "execute_result",
          "data": {
            "text/plain": [
              "array([0.1309318 , 0.12964698, 0.05886811, 0.02632764, 0.02628017,\n",
              "       0.02111061, 0.01886748, 0.0169997 , 0.01670074, 0.0163556 ])"
            ]
          },
          "metadata": {},
          "execution_count": 79
        }
      ]
    },
    {
      "cell_type": "code",
      "metadata": {
        "id": "KzkOW-u908Et",
        "colab": {
          "base_uri": "https://localhost:8080/",
          "height": 353
        },
        "outputId": "61bc1636-5b82-4263-83d1-da8150e4acc0"
      },
      "source": [
        "fig = plt.figure()\n",
        "ax = fig.add_axes([0,0,1,1])\n",
        "features = ['Z1', 'Z2', 'Z3', 'Z4', 'Z5','Z6','Z7','Z8','Z9','Z10']\n",
        "ax.bar(features,rf_imp_descend10)\n",
        "ax.legend()\n",
        "plt.show()"
      ],
      "execution_count": null,
      "outputs": [
        {
          "output_type": "stream",
          "name": "stderr",
          "text": [
            "No handles with labels found to put in legend.\n"
          ]
        },
        {
          "output_type": "display_data",
          "data": {
            "image/png": "[encoded data removed]",
            "text/plain": [
              "<Figure size 432x288 with 1 Axes>"
            ]
          },
          "metadata": {
            "needs_background": "light"
          }
        }
      ]
    },
    {
      "cell_type": "code",
      "metadata": {
        "id": "lwW_FD3QTyxR",
        "colab": {
          "base_uri": "https://localhost:8080/",
          "height": 336
        },
        "outputId": "9c79f244-60f7-4ae0-8c80-6f0e591528b8"
      },
      "source": [
        "fig = plt.figure()\n",
        "ax = fig.add_axes([0,0,1,1])\n",
        "\n",
        "ax.bar(rf_imp_index,rf_imp_descend,label='IMF for all 61 Features',color='b')\n",
        "ax.bar(rf_imp_index[0:10],rf_imp_descend10,label='IMF for 10 Most Important Features',color='r')\n",
        "\n",
        "ax.legend()\n",
        "plt.show()"
      ],
      "execution_count": null,
      "outputs": [
        {
          "output_type": "display_data",
          "data": {
            "image/png": "[encoded data removed]",
            "text/plain": [
              "<Figure size 432x288 with 1 Axes>"
            ]
          },
          "metadata": {
            "needs_background": "light"
          }
        }
      ]
    },
    {
      "cell_type": "markdown",
      "metadata": {
        "id": "JaSPuYzqWeyj"
      },
      "source": [
        "The feature importance (variable importance) describes which features are relevant. Random Forest is a set of Decision Trees. Each Decision Tree is a set of internal nodes and leaves. In the internal node, the selected feature is used to make decision how to divide the data set into two separate sets with similars responses within. The features for internal nodes are selected with some criterion, which for classification tasks can be gini impurity or infomation gain. We can measure how each feature decrease the impurity of the split (the feature with highest decrease is selected for internal node). For each feature we can collect how on average it decreases the impurity. The average over all trees in the forest is the measure of the feature importance. "
      ]
    },
    {
      "cell_type": "markdown",
      "metadata": {
        "id": "Tq6CDrIH2rAH"
      },
      "source": [
        "###**5.2 Each principal component Zk is associated to an eigenvalue Lk of the 400 x 400 correlation matrix of the original 400 features. Explain what is the practical meaning of Lk /400.**###"
      ]
    },
    {
      "cell_type": "markdown",
      "metadata": {
        "id": "GO_vuWFG2xOl"
      },
      "source": [
        "###**5.3 Scatterplot (Lk, IMk ) for k =1…10 and interpret this plot to evaluate the potential relation between Lk and IMPk**###"
      ]
    },
    {
      "cell_type": "code",
      "metadata": {
        "id": "826_wJwNo0RR"
      },
      "source": [
        "## Eigenvalues Eigen vector of CORR\n",
        "from numpy import linalg as LA\n",
        "corr_400=DATA.corr()\n",
        "l,EigenVec_400=LA.eig(corr_400) # l is eigenvalues, w is eigen vector\n"
      ],
      "execution_count": null,
      "outputs": []
    },
    {
      "cell_type": "code",
      "metadata": {
        "colab": {
          "base_uri": "https://localhost:8080/"
        },
        "id": "XjDmVGurgQ9S",
        "outputId": "899dba43-7fb6-4e3e-8b2c-91e7f196e641"
      },
      "source": [
        "l.sum()"
      ],
      "execution_count": null,
      "outputs": [
        {
          "output_type": "execute_result",
          "data": {
            "text/plain": [
              "400.00000000000057"
            ]
          },
          "metadata": {},
          "execution_count": 142
        }
      ]
    },
    {
      "cell_type": "code",
      "metadata": {
        "id": "sDop0pByohRr",
        "colab": {
          "base_uri": "https://localhost:8080/"
        },
        "outputId": "6a26a57c-2562-4df1-dab1-eb5e7dfc7639"
      },
      "source": [
        "EigenVec_400"
      ],
      "execution_count": null,
      "outputs": [
        {
          "output_type": "execute_result",
          "data": {
            "text/plain": [
              "array([[ 0.0189901 ,  0.05383136, -0.09682366, ..., -0.00164012,\n",
              "         0.00030848, -0.00272318],\n",
              "       [ 0.02126   ,  0.05207551, -0.09920029, ...,  0.03695056,\n",
              "        -0.00685706,  0.05822282],\n",
              "       [ 0.02710461,  0.04593059, -0.09197524, ..., -0.0422608 ,\n",
              "         0.00106115, -0.04260787],\n",
              "       ...,\n",
              "       [ 0.0259442 ,  0.03459382, -0.04646808, ..., -0.04354349,\n",
              "        -0.05722006,  0.13497371],\n",
              "       [ 0.02020463,  0.0390528 , -0.05746356, ...,  0.04124329,\n",
              "         0.0279418 , -0.07371048],\n",
              "       [ 0.01879273,  0.04338843, -0.06457299, ..., -0.0187711 ,\n",
              "        -0.03184559, -0.00820577]])"
            ]
          },
          "metadata": {},
          "execution_count": 83
        }
      ]
    },
    {
      "cell_type": "code",
      "metadata": {
        "id": "986ZnW6LqHrf"
      },
      "source": [
        "L=np.sort(l)[::-1] # sort the eigenvalues in decreasing order\n",
        "L_index=np.argsort(-l)"
      ],
      "execution_count": null,
      "outputs": []
    },
    {
      "cell_type": "code",
      "metadata": {
        "id": "UERF-370wnD4"
      },
      "source": [
        "Lk=np.sort(L)[::-1]\n",
        "Lk10=Lk[0:10]"
      ],
      "execution_count": null,
      "outputs": []
    },
    {
      "cell_type": "code",
      "metadata": {
        "id": "g5hXkQ7C1Owf",
        "colab": {
          "base_uri": "https://localhost:8080/"
        },
        "outputId": "3727e32a-80fa-46e9-b3c8-f1911170ebae"
      },
      "source": [
        "Lk10"
      ],
      "execution_count": null,
      "outputs": [
        {
          "output_type": "execute_result",
          "data": {
            "text/plain": [
              "array([74.15752037, 52.63556913, 23.72067807, 16.3224149 , 14.67826644,\n",
              "       13.79233191, 12.86274988,  9.17915094,  8.81317612,  7.69217615])"
            ]
          },
          "metadata": {},
          "execution_count": 86
        }
      ]
    },
    {
      "cell_type": "code",
      "metadata": {
        "id": "g-47n-HPyfrq"
      },
      "source": [
        "IM=RF_model_300_400feature.feature_importances_\n",
        "IMK=np.sort(IM)[::-1]\n",
        "IMK10=IMK[0:10]"
      ],
      "execution_count": null,
      "outputs": []
    },
    {
      "cell_type": "code",
      "metadata": {
        "colab": {
          "base_uri": "https://localhost:8080/",
          "height": 283
        },
        "id": "RC2xw4__sjxi",
        "outputId": "2f8a1b24-1a50-4035-d357-6fe51c97d3da"
      },
      "source": [
        "import matplotlib.pyplot as plt\n",
        "k=400\n",
        "plt.plot(np.arange(1,k+1),np.sqrt(l[0:k]),label=\"Descending  Eigen Value of Features\")\n",
        "plt.plot(np.arange(1,k+1),IM[0:k]*10,label=\"Descending Importance of Features in RF (*1e4))\")\n",
        "plt.xlabel('Xn')\n",
        "plt.ylabel('Value')\n",
        "#plt.xticks([1, 2, 3, 4, 5])\n",
        "plt.axis([0,400,0,0.4])\n",
        "plt.legend()\n",
        "plt.show()"
      ],
      "execution_count": null,
      "outputs": [
        {
          "output_type": "display_data",
          "data": {
            "image/png": "[encoded data removed]",
            "text/plain": [
              "<Figure size 432x288 with 1 Axes>"
            ]
          },
          "metadata": {
            "needs_background": "light"
          }
        }
      ]
    },
    {
      "cell_type": "code",
      "metadata": {
        "id": "20u7bC1mzkbx",
        "colab": {
          "base_uri": "https://localhost:8080/",
          "height": 279
        },
        "outputId": "f83cea88-cbd5-4ff3-8a26-47aa5d4e53b9"
      },
      "source": [
        "import matplotlib.pyplot as plt\n",
        "plt.plot(Lk10,IMK10,label=\"accuracy of training set by ntrees\")\n",
        "plt.xlabel('Lk')\n",
        "plt.ylabel('IMK')\n",
        "plt.legend()\n",
        "plt.show()"
      ],
      "execution_count": null,
      "outputs": [
        {
          "output_type": "display_data",
          "data": {
            "image/png": "[encoded data removed]",
            "text/plain": [
              "<Figure size 432x288 with 1 Axes>"
            ]
          },
          "metadata": {
            "needs_background": "light"
          }
        }
      ]
    },
    {
      "cell_type": "code",
      "metadata": {
        "id": "jXeZPfu86Ym5",
        "colab": {
          "base_uri": "https://localhost:8080/",
          "height": 279
        },
        "outputId": "a883039d-5ec6-46ef-b42c-3419e4433287"
      },
      "source": [
        "import matplotlib.pyplot as plt\n",
        "k=400\n",
        "plt.plot(np.arange(1,k+1),Lk[0:k],label=\"Descending  Eigen Value of Features\")\n",
        "plt.plot(np.arange(1,k+1),IMK[0:k]*10000,label=\"Descending Importance of Features in RF (*1e4))\")\n",
        "plt.xlabel('Xn')\n",
        "plt.ylabel('Value')\n",
        "plt.legend()\n",
        "plt.show()"
      ],
      "execution_count": null,
      "outputs": [
        {
          "output_type": "display_data",
          "data": {
            "image/png": "[encoded data removed]",
            "text/plain": [
              "<Figure size 432x288 with 1 Axes>"
            ]
          },
          "metadata": {
            "needs_background": "light"
          }
        }
      ]
    },
    {
      "cell_type": "code",
      "metadata": {
        "colab": {
          "base_uri": "https://localhost:8080/",
          "height": 279
        },
        "id": "ibZpmPj1vfKj",
        "outputId": "c0420c6e-87cb-4c78-d682-56b442bb0215"
      },
      "source": [
        "import matplotlib.pyplot as plt\n",
        "k=400\n",
        "plt.plot(np.arange(1,k+1),l[0:k],label=\"Unsorted Eigen Value of Features\")\n",
        "plt.plot(np.arange(1,k+1),IM[0:k]*10000,label=\"Unsorted Importance of Features in RF (*1e4))\")\n",
        "plt.xlabel('Xn')\n",
        "#plt.xticks([1, 2, 3, 4, 5])\n",
        "#plt.axis([0,400,0,0.4])\n",
        "plt.legend()\n",
        "plt.show()"
      ],
      "execution_count": null,
      "outputs": [
        {
          "output_type": "display_data",
          "data": {
            "image/png": "[encoded data removed]",
            "text/plain": [
              "<Figure size 432x288 with 1 Axes>"
            ]
          },
          "metadata": {
            "needs_background": "light"
          }
        }
      ]
    },
    {
      "cell_type": "code",
      "metadata": {
        "colab": {
          "base_uri": "https://localhost:8080/",
          "height": 280
        },
        "id": "hLTAnSAcqw3X",
        "outputId": "1bb53fab-756a-4d22-8249-c0bd72d634b1"
      },
      "source": [
        "import matplotlib.pyplot as plt\n",
        "plt.plot(l,IM,label=\"accuracy of training set by ntrees\")\n",
        "plt.xlabel('Lk')\n",
        "plt.ylabel('IMK')\n",
        "plt.legend()\n",
        "plt.show()"
      ],
      "execution_count": null,
      "outputs": [
        {
          "output_type": "display_data",
          "data": {
            "image/png": "[encoded data removed]",
            "text/plain": [
              "<Figure size 432x288 with 1 Axes>"
            ]
          },
          "metadata": {
            "needs_background": "light"
          }
        }
      ]
    },
    {
      "cell_type": "markdown",
      "metadata": {
        "id": "4TmVUWVD295u"
      },
      "source": [
        "#**6. Find the worst pair of classes classification and further fine-tune by bag of RF. **#"
      ]
    },
    {
      "cell_type": "markdown",
      "metadata": {
        "id": "BQbhqfJN3DRZ"
      },
      "source": [
        "###**6.1 Compute the 4x4 confusion matrix of RF* on the test set. Use this matrix to identify the pair of classes (CLi,CLj ) which exhibit the WORST confusion percentage.**###"
      ]
    },
    {
      "cell_type": "code",
      "metadata": {
        "id": "WmvqA-MBdXFJ",
        "colab": {
          "base_uri": "https://localhost:8080/",
          "height": 298
        },
        "outputId": "a364951e-bb96-4cd2-da9e-b140ffef3be8"
      },
      "source": [
        "cm_test300= confusion_matrix(y_test,y_pred300_test)\n",
        "cm_test300_percentage=cm_test300/(len(x_test)/4)*100\n",
        "sns.heatmap(cm_test300_percentage,annot=True,center= 0, cmap= 'RdBu',fmt='.3g').set_title('Confusion Matrix of Test Set/Percentage of Cases')"
      ],
      "execution_count": null,
      "outputs": [
        {
          "output_type": "execute_result",
          "data": {
            "text/plain": [
              "Text(0.5, 1.0, 'Confusion Matrix of Test Set/Percentage of Cases')"
            ]
          },
          "metadata": {},
          "execution_count": 93
        },
        {
          "output_type": "display_data",
          "data": {
            "image/png": "[encoded data removed]",
            "text/plain": [
              "<Figure size 432x288 with 2 Axes>"
            ]
          },
          "metadata": {
            "needs_background": "light"
          }
        }
      ]
    },
    {
      "cell_type": "markdown",
      "metadata": {
        "id": "zaYtyNcSdzez"
      },
      "source": [
        "According to the confusion matrix, (CL1,CL2) exhibit the worst percentage of corrected prediction"
      ]
    },
    {
      "cell_type": "code",
      "metadata": {
        "id": "bwoLqbtFxPCo",
        "colab": {
          "base_uri": "https://localhost:8080/",
          "height": 298
        },
        "outputId": "02435e33-cb21-49c6-8892-511e6fbdd47b"
      },
      "source": [
        "sns.heatmap(cm_test300_percentage[0:2,0:2],annot=True,center= 0, cmap= 'RdBu',fmt='.3g').set_title('Confusion Matrix of Test Set/Percentage of Cases')"
      ],
      "execution_count": null,
      "outputs": [
        {
          "output_type": "execute_result",
          "data": {
            "text/plain": [
              "Text(0.5, 1.0, 'Confusion Matrix of Test Set/Percentage of Cases')"
            ]
          },
          "metadata": {},
          "execution_count": 94
        },
        {
          "output_type": "display_data",
          "data": {
            "image/png": "[encoded data removed]",
            "text/plain": [
              "<Figure size 432x288 with 2 Axes>"
            ]
          },
          "metadata": {
            "needs_background": "light"
          }
        }
      ]
    },
    {
      "cell_type": "markdown",
      "metadata": {
        "id": "E9zpbvl73JGz"
      },
      "source": [
        "###**6.2 Train a newRF classifier with ntry sqrt (r) and numbers of trees = ntree * to classify CLi versus CLj. Compute the test set accuracy and 2x2 confusion matrix for newRF Compare to the ( CLi,CLj ) results obtained in 6.1.**###"
      ]
    },
    {
      "cell_type": "code",
      "metadata": {
        "id": "j2dNsdV7tiIp"
      },
      "source": [
        "#Select CL1 and CL2 data and concatenat to new train and test data. \n",
        "x12_train=np.concatenate((x1_train,x2_train),axis=0)\n",
        "x12_test=np.concatenate((x1_test,x2_test),axis=0)\n",
        "y12_train=np.concatenate((y1_train,y2_train),axis=0)\n",
        "y12_test=np.concatenate((y1_test,y2_test),axis=0)"
      ],
      "execution_count": null,
      "outputs": []
    },
    {
      "cell_type": "code",
      "metadata": {
        "id": "Oi3Xe2Nwtz_0",
        "colab": {
          "base_uri": "https://localhost:8080/"
        },
        "outputId": "d201d8dc-9b61-419d-ff96-a6a6087efea8"
      },
      "source": [
        "#Train Random Forest classifier which targeting on CL1 and CL2. \n",
        "# n trees=300\n",
        "RF_CL12_model_300=RandomForestClassifier(n_estimators=300,max_features=8,random_state=1).fit(x12_train,y12_train)\n",
        "y12_pred_train=RF_CL12_model_300.predict(x12_train)\n",
        "ACC_CL12_train=np.around(accuracy_score(y12_train,y12_pred_train),decimals=3)\n",
        "print(\"Accuracy on train set:\",ACC_CL12_train)\n",
        "y12_pred_test=RF_CL12_model_300.predict(x12_test)\n",
        "ACC_CL12_test=np.around(accuracy_score(y12_test,y12_pred_test),decimals=3)\n",
        "print(\"Accuracy on test set:\",ACC_CL12_test)"
      ],
      "execution_count": null,
      "outputs": [
        {
          "output_type": "stream",
          "name": "stdout",
          "text": [
            "Accuracy on train set: 0.982\n",
            "Accuracy on test set: 0.913\n"
          ]
        }
      ]
    },
    {
      "cell_type": "code",
      "metadata": {
        "id": "xpblhPizvq6K",
        "colab": {
          "base_uri": "https://localhost:8080/",
          "height": 298
        },
        "outputId": "655ef89d-30ae-4d08-872f-efa2d679d177"
      },
      "source": [
        "cm_ACC_CL12_test= confusion_matrix(y12_test,y12_pred_test)/(len(y12_test)/2)*100\n",
        "sns.heatmap(cm_ACC_CL12_test,annot=True,center= 0, cmap= 'RdBu',fmt='.3g').set_title('CM of CL1&CL2 Test Data')"
      ],
      "execution_count": null,
      "outputs": [
        {
          "output_type": "execute_result",
          "data": {
            "text/plain": [
              "Text(0.5, 1.0, 'CM of CL1&CL2 Test Data')"
            ]
          },
          "metadata": {},
          "execution_count": 97
        },
        {
          "output_type": "display_data",
          "data": {
            "image/png": "[encoded data removed]",
            "text/plain": [
              "<Figure size 432x288 with 2 Axes>"
            ]
          },
          "metadata": {
            "needs_background": "light"
          }
        }
      ]
    },
    {
      "cell_type": "markdown",
      "metadata": {
        "id": "UYajk3Rk3X4C"
      },
      "source": [
        "###**6.3 Run bag of RF on the 1v1 RF classifiers**###"
      ]
    },
    {
      "cell_type": "code",
      "metadata": {
        "id": "NO6FXACTdfu_",
        "colab": {
          "base_uri": "https://localhost:8080/"
        },
        "outputId": "2d7d127b-5997-4712-8392-b5d9c5bd56e5"
      },
      "source": [
        "x_train.shape"
      ],
      "execution_count": null,
      "outputs": [
        {
          "output_type": "execute_result",
          "data": {
            "text/plain": [
              "(4416, 61)"
            ]
          },
          "metadata": {},
          "execution_count": 98
        }
      ]
    },
    {
      "cell_type": "code",
      "metadata": {
        "id": "rMj7caLMdomM",
        "colab": {
          "base_uri": "https://localhost:8080/"
        },
        "outputId": "a4260f74-b8ba-4f39-a8d8-66347cdcdcb3"
      },
      "source": [
        "y_train.shape"
      ],
      "execution_count": null,
      "outputs": [
        {
          "output_type": "execute_result",
          "data": {
            "text/plain": [
              "(4416,)"
            ]
          },
          "metadata": {},
          "execution_count": 99
        }
      ]
    },
    {
      "cell_type": "code",
      "metadata": {
        "id": "ue3NDBHnd1gj"
      },
      "source": [
        "x_train1, x_train_drop, y_train1, y_train_drop = train_test_split(x_train, y_train, test_size=0.2,random_state=11)\n",
        "x_train2, x_train_drop, y_train2, y_train_drop = train_test_split(x_train, y_train, test_size=0.2,random_state=12)\n",
        "x_train3, x_train_drop, y_train3, y_train_drop = train_test_split(x_train, y_train, test_size=0.2,random_state=13)\n",
        "x_train4, x_train_drop, y_train4, y_train_drop = train_test_split(x_train, y_train, test_size=0.2,random_state=14)\n",
        "x_train5, x_train_drop, y_train5, y_train_drop = train_test_split(x_train, y_train, test_size=0.2,random_state=15)"
      ],
      "execution_count": null,
      "outputs": []
    },
    {
      "cell_type": "code",
      "metadata": {
        "id": "zdWaE9VhfYcM",
        "colab": {
          "base_uri": "https://localhost:8080/"
        },
        "outputId": "cbcf534e-3f6c-4f6a-b4de-18c9951d8aa8"
      },
      "source": [
        "print(x_train1.shape,x_train2.shape,x_train3.shape,x_train4.shape,x_train5.shape)"
      ],
      "execution_count": null,
      "outputs": [
        {
          "output_type": "stream",
          "name": "stdout",
          "text": [
            "(3532, 61) (3532, 61) (3532, 61) (3532, 61) (3532, 61)\n"
          ]
        }
      ]
    },
    {
      "cell_type": "code",
      "metadata": {
        "id": "DfCuekAvfroj",
        "colab": {
          "base_uri": "https://localhost:8080/"
        },
        "outputId": "68b24a2a-d85c-48cd-b3ce-75c5ef0d32a2"
      },
      "source": [
        "print(y_train1.shape,y_train2.shape,y_train3.shape,y_train4.shape,y_train5.shape)"
      ],
      "execution_count": null,
      "outputs": [
        {
          "output_type": "stream",
          "name": "stdout",
          "text": [
            "(3532,) (3532,) (3532,) (3532,) (3532,)\n"
          ]
        }
      ]
    },
    {
      "cell_type": "code",
      "metadata": {
        "id": "94C0wfZff1la",
        "colab": {
          "base_uri": "https://localhost:8080/"
        },
        "outputId": "45e6a9a6-e059-4db4-e6c7-874e4e6c75d9"
      },
      "source": [
        "print(x_test.shape,y_test.shape)"
      ],
      "execution_count": null,
      "outputs": [
        {
          "output_type": "stream",
          "name": "stdout",
          "text": [
            "(1104, 61) (1104,)\n"
          ]
        }
      ]
    },
    {
      "cell_type": "code",
      "metadata": {
        "id": "9aGjVU3kcOFu"
      },
      "source": [
        "# n trees=300\n",
        "RFtr1=RandomForestClassifier(n_estimators=300,max_features=8,random_state=0).fit(x_train1,y_train1)\n",
        "RFtr2=RandomForestClassifier(n_estimators=300,max_features=8,random_state=1).fit(x_train2,y_train2)\n",
        "RFtr3=RandomForestClassifier(n_estimators=300,max_features=8,random_state=2).fit(x_train3,y_train3)\n",
        "RFtr4=RandomForestClassifier(n_estimators=300,max_features=8,random_state=3).fit(x_train4,y_train4)\n",
        "RFtr5=RandomForestClassifier(n_estimators=300,max_features=8,random_state=4).fit(x_train5,y_train5)"
      ],
      "execution_count": null,
      "outputs": []
    },
    {
      "cell_type": "code",
      "metadata": {
        "id": "ApVKD-CUlwuQ"
      },
      "source": [
        "y_predRFtr1=RFtr1.predict(x_test)\n",
        "y_predRFtr2=RFtr2.predict(x_test)\n",
        "y_predRFtr3=RFtr3.predict(x_test)\n",
        "y_predRFtr4=RFtr4.predict(x_test)\n",
        "y_predRFtr5=RFtr5.predict(x_test)"
      ],
      "execution_count": null,
      "outputs": []
    },
    {
      "cell_type": "code",
      "metadata": {
        "id": "KuLjEWJ7iKY-"
      },
      "source": [
        "ACCRFtr1_test=accuracy_score(y_test,y_predRFtr1)\n",
        "ACCRFtr2_test=accuracy_score(y_test,y_predRFtr2)\n",
        "ACCRFtr3_test=accuracy_score(y_test,y_predRFtr3)\n",
        "ACCRFtr4_test=accuracy_score(y_test,y_predRFtr4)\n",
        "ACCRFtr5_test=accuracy_score(y_test,y_predRFtr5)"
      ],
      "execution_count": null,
      "outputs": []
    },
    {
      "cell_type": "code",
      "metadata": {
        "id": "hYVaJo0qlZKx",
        "colab": {
          "base_uri": "https://localhost:8080/"
        },
        "outputId": "b0a5220c-d9dc-4eff-a2bf-a3511f187782"
      },
      "source": [
        "print(\"Accuracy by RFtr1 on test set:\",\"{:.3f}\".format(ACCRFtr1_test))\n",
        "print(\"Accuracy by RFtr2 on test set:\",\"{:.3f}\".format(ACCRFtr2_test))\n",
        "print(\"Accuracy by RFtr3 on test set:\",\"{:.3f}\".format(ACCRFtr3_test))\n",
        "print(\"Accuracy by RFtr4 on test set:\",\"{:.3f}\".format(ACCRFtr4_test))\n",
        "print(\"Accuracy by RFtr5 on test set:\",\"{:.3f}\".format(ACCRFtr5_test))"
      ],
      "execution_count": null,
      "outputs": [
        {
          "output_type": "stream",
          "name": "stdout",
          "text": [
            "Accuracy by RFtr1 on test set: 0.889\n",
            "Accuracy by RFtr2 on test set: 0.884\n",
            "Accuracy by RFtr3 on test set: 0.889\n",
            "Accuracy by RFtr4 on test set: 0.877\n",
            "Accuracy by RFtr5 on test set: 0.879\n"
          ]
        }
      ]
    },
    {
      "cell_type": "code",
      "metadata": {
        "id": "PO557ikm20Sp"
      },
      "source": [
        "ACCRFtr_test=np.array((ACCRFtr1_test,ACCRFtr2_test,ACCRFtr3_test,ACCRFtr4_test,ACCRFtr5_test))\n",
        "ACCRFtr_margin=np.sqrt(ACCRFtr_test*(1-ACCRFtr_test)/len(y_test))\n",
        "ACCRFtr_margin_plus=ACCRFtr_test+1.6*ACCRFtr_margin\n",
        "ACCRFtr_margin_minus=ACCRFtr_test-1.6*ACCRFtr_margin"
      ],
      "execution_count": null,
      "outputs": []
    },
    {
      "cell_type": "code",
      "metadata": {
        "id": "N2vrDXCJ4VoX",
        "colab": {
          "base_uri": "https://localhost:8080/"
        },
        "outputId": "be4c90de-241e-4142-fcf6-a6a5d15821f4"
      },
      "source": [
        "np.around(ACCRFtr_margin_plus,decimals=3)"
      ],
      "execution_count": null,
      "outputs": [
        {
          "output_type": "execute_result",
          "data": {
            "text/plain": [
              "array([0.904, 0.899, 0.904, 0.893, 0.894])"
            ]
          },
          "metadata": {},
          "execution_count": 109
        }
      ]
    },
    {
      "cell_type": "code",
      "metadata": {
        "id": "NXJO4B2c5JhD",
        "colab": {
          "base_uri": "https://localhost:8080/"
        },
        "outputId": "f11fb78f-25dc-4bbf-c3df-18a0c3d45652"
      },
      "source": [
        "np.around(ACCRFtr_margin_minus,decimals=3)"
      ],
      "execution_count": null,
      "outputs": [
        {
          "output_type": "execute_result",
          "data": {
            "text/plain": [
              "array([0.873, 0.869, 0.873, 0.861, 0.863])"
            ]
          },
          "metadata": {},
          "execution_count": 110
        }
      ]
    },
    {
      "cell_type": "code",
      "metadata": {
        "id": "CB5iFGT4lW_6"
      },
      "source": [
        "#get the majority answer among these 5 RF classifiers\n",
        "from scipy import stats\n",
        "a=len(y_predRFtr1)\n",
        "y_predRT_fusion=[0]*a\n",
        "for i in range (a):\n",
        "  y_predRT_fusion[i]=stats.mode([y_predRFtr1[i],y_predRFtr2[i],y_predRFtr3[i],y_predRFtr4[i],y_predRFtr5[i]])[0][0]\n"
      ],
      "execution_count": null,
      "outputs": []
    },
    {
      "cell_type": "code",
      "metadata": {
        "id": "BtSI-Jb-tE7t",
        "colab": {
          "base_uri": "https://localhost:8080/"
        },
        "outputId": "cc62a37e-6613-4c7c-b78e-ed1bd5f25ead"
      },
      "source": [
        "ACC_RFtrfusion_test=accuracy_score(y_test,y_predRT_fusion)\n",
        "print(\"{:.3f}\".format(ACC_RFtrfusion_test))"
      ],
      "execution_count": null,
      "outputs": [
        {
          "output_type": "stream",
          "name": "stdout",
          "text": [
            "0.904\n"
          ]
        }
      ]
    },
    {
      "cell_type": "code",
      "metadata": {
        "id": "Op03qRri57pa"
      },
      "source": [
        "ACC_RFtrfusion_test_margin=np.sqrt(ACC_RFtrfusion_test*(1-ACC_RFtrfusion_test)/len(y_test))\n",
        "ACC_RFtrfusion_test_plus=ACC_RFtrfusion_test+1.6*ACC_RFtrfusion_test_margin\n",
        "ACC_RFtrfusion_test_minus=ACC_RFtrfusion_test-1.6*ACC_RFtrfusion_test_margin"
      ],
      "execution_count": null,
      "outputs": []
    },
    {
      "cell_type": "code",
      "metadata": {
        "id": "tHll_1T76sWu",
        "colab": {
          "base_uri": "https://localhost:8080/"
        },
        "outputId": "27235681-d241-4e53-8c90-40b71fcbd03f"
      },
      "source": [
        "print(\"the 90% confidence interval of Acc_RFtrfusion_test is:\",\n",
        "      \"{:.3f}\".format(ACC_RFtrfusion_test_plus),\"{:.3f}\".format(ACC_RFtrfusion_test_minus))"
      ],
      "execution_count": null,
      "outputs": [
        {
          "output_type": "stream",
          "name": "stdout",
          "text": [
            "the 90% confidence interval of Acc_RFtrfusion_test is: 0.918 0.890\n"
          ]
        }
      ]
    },
    {
      "cell_type": "code",
      "metadata": {
        "id": "Yfq1qBTLtYWk",
        "colab": {
          "base_uri": "https://localhost:8080/",
          "height": 281
        },
        "outputId": "f7b09bc8-958c-4104-9162-a92d6bf2037d"
      },
      "source": [
        "cm_RFtrfusion_test= confusion_matrix(y_test,y_predRT_fusion)\n",
        "fig_RFtrfusion_test=sns.heatmap(cm_RFtrfusion_test,annot=True,center= 0, cmap= 'RdBu',fmt='g').set_title('CM_RFtree_Fusion')"
      ],
      "execution_count": null,
      "outputs": [
        {
          "output_type": "display_data",
          "data": {
            "image/png": "[encoded data removed]",
            "text/plain": [
              "<Figure size 432x288 with 2 Axes>"
            ]
          },
          "metadata": {
            "needs_background": "light"
          }
        }
      ]
    },
    {
      "cell_type": "code",
      "metadata": {
        "id": "I6U0lWyszQUv"
      },
      "source": [
        "cm_RT1=confusion_matrix(y_test,y_predRFtr1)\n",
        "cm_RT2=confusion_matrix(y_test,y_predRFtr2)\n",
        "cm_RT3=confusion_matrix(y_test,y_predRFtr3)\n",
        "cm_RT4=confusion_matrix(y_test,y_predRFtr4)\n",
        "cm_RT5=confusion_matrix(y_test,y_predRFtr5)"
      ],
      "execution_count": null,
      "outputs": []
    },
    {
      "cell_type": "code",
      "metadata": {
        "id": "SewH0_I0vIP4",
        "colab": {
          "base_uri": "https://localhost:8080/",
          "height": 201
        },
        "outputId": "1340a546-bcc1-497e-e4ba-8522e65980c1"
      },
      "source": [
        "fig, axes = plt.subplots(1, 5, figsize=(20, 3), sharey=True)\n",
        "fig_RT1=sns.heatmap(cm_RT1,annot=True,center= 0, cmap= 'RdBu',fmt='g',ax=axes[0]).set_title('CM_RT1')\n",
        "fig_RT2=sns.heatmap(cm_RT2,annot=True,center= 0, cmap= 'RdBu',fmt='g',ax=axes[1]).set_title('CM_RT2')\n",
        "fig_RT3=sns.heatmap(cm_RT3,annot=True,center= 0, cmap= 'RdBu',fmt='g',ax=axes[2]).set_title('CM_RT3')\n",
        "fig_RT4=sns.heatmap(cm_RT4,annot=True,center= 0, cmap= 'RdBu',fmt='g',ax=axes[3]).set_title('CM_RT4')\n",
        "fig_RT5=sns.heatmap(cm_RT5,annot=True,center= 0, cmap= 'RdBu',fmt='g',ax=axes[4]).set_title('CM_RT5')"
      ],
      "execution_count": null,
      "outputs": [
        {
          "output_type": "display_data",
          "data": {
            "image/png": "[encoded data removed]",
            "text/plain": [
              "<Figure size 1440x216 with 10 Axes>"
            ]
          },
          "metadata": {
            "needs_background": "light"
          }
        }
      ]
    },
    {
      "cell_type": "code",
      "metadata": {
        "id": "zHGd6Td2PVxi",
        "colab": {
          "base_uri": "https://localhost:8080/"
        },
        "outputId": "0ebadfca-6f3e-45f0-f2ff-26d79620bdb4"
      },
      "source": [
        "len(y_predRT_fusion)"
      ],
      "execution_count": null,
      "outputs": [
        {
          "output_type": "execute_result",
          "data": {
            "text/plain": [
              "1104"
            ]
          },
          "metadata": {},
          "execution_count": 118
        }
      ]
    },
    {
      "cell_type": "code",
      "metadata": {
        "id": "8uhrdHn_QLsu",
        "colab": {
          "base_uri": "https://localhost:8080/"
        },
        "outputId": "65799bb4-9cac-46db-f15e-15a1122f5a35"
      },
      "source": [
        "x_test.shape"
      ],
      "execution_count": null,
      "outputs": [
        {
          "output_type": "execute_result",
          "data": {
            "text/plain": [
              "(1104, 61)"
            ]
          },
          "metadata": {},
          "execution_count": 119
        }
      ]
    },
    {
      "cell_type": "markdown",
      "metadata": {
        "id": "MRuV97G3iYCI"
      },
      "source": [
        "Since CL12 has residual large misclassification, a further fine-tune can be specifically targeted on CL12."
      ]
    },
    {
      "cell_type": "code",
      "metadata": {
        "id": "UKvR9nLRidIU"
      },
      "source": [
        "#combine test data x, prediced y and true y\n",
        "test_data_fusion=pd.DataFrame(x_test)\n",
        "test_data_fusion['y_predRT_fusion']=y_predRT_fusion\n",
        "test_data_fusion['y_true']=y_test"
      ],
      "execution_count": null,
      "outputs": []
    },
    {
      "cell_type": "code",
      "metadata": {
        "id": "9uvc6Oevi6MP"
      },
      "source": [
        "#select CL1 and CL2 from test data frame\n",
        "test_data_fusion_class12=test_data_fusion[(test_data_fusion[\"y_predRT_fusion\"]==1)|(test_data_fusion[\"y_predRT_fusion\"]==2)]\n",
        "test_data_fusion_class34=test_data_fusion[(test_data_fusion[\"y_predRT_fusion\"]==3)|(test_data_fusion[\"y_predRT_fusion\"]==4)]"
      ],
      "execution_count": null,
      "outputs": []
    },
    {
      "cell_type": "code",
      "metadata": {
        "id": "xZGLmgsjjFqq"
      },
      "source": [
        "#generate test data x for class 1 and 2\n",
        "x_test_data_fusion_class12 = test_data_fusion_class12.iloc[:,0:61]\n",
        "#generate predict y for test data of class 3 and 4\n",
        "y_pred_test_data_fusion_class34=test_data_fusion_class34.iloc[:,61]\n",
        "#generate true y for test data of class 1 and 2\n",
        "y_true_test_class12=test_data_fusion_class12.iloc[:,62]\n",
        "#generate true y for test data of class 3 and 4\n",
        "y_true_test_class34=test_data_fusion_class34.iloc[:,62]"
      ],
      "execution_count": null,
      "outputs": []
    },
    {
      "cell_type": "code",
      "metadata": {
        "id": "6qmCqNgWjxG0"
      },
      "source": [
        "#call pre-trained classifier 'RF_CL12_model_300' by section6.1 to predict y_test_fusion of CL12\n",
        "y_pred_test_data_fusion_class12=RF_CL12_model_300.predict(x_test_data_fusion_class12)"
      ],
      "execution_count": null,
      "outputs": []
    },
    {
      "cell_type": "code",
      "metadata": {
        "id": "qeSyQSlOkSTH"
      },
      "source": [
        "# generate y_true for test data\n",
        "y_true_test=np.concatenate([y_true_test_class12,y_true_test_class34])\n",
        "# generate y_predict for test data by combine fusion of class34 and fusion_finetune of class12\n",
        "y_pred_test_fusion_finetune=np.concatenate([y_pred_test_data_fusion_class12,y_pred_test_data_fusion_class34])"
      ],
      "execution_count": null,
      "outputs": []
    },
    {
      "cell_type": "code",
      "metadata": {
        "colab": {
          "base_uri": "https://localhost:8080/"
        },
        "id": "HoPqU6oQkpn2",
        "outputId": "80c73b4d-1de3-47ff-fb6e-36b317442d0a"
      },
      "source": [
        "#calculate accuracy for finetune predicted y\n",
        "ACC_pred_test_fusion_finetune=accuracy_score(y_true_test,y_pred_test_fusion_finetune)\n",
        "print(\"{:.3f}\".format(ACC_pred_test_fusion_finetune))"
      ],
      "execution_count": null,
      "outputs": [
        {
          "output_type": "stream",
          "name": "stdout",
          "text": [
            "0.907\n"
          ]
        }
      ]
    },
    {
      "cell_type": "code",
      "metadata": {
        "colab": {
          "base_uri": "https://localhost:8080/",
          "height": 281
        },
        "id": "wJ1ydpx4lLkT",
        "outputId": "6caa1805-7e5a-4338-91eb-3b882069b6bf"
      },
      "source": [
        "#generate confusion matrix for fusion_finetune classification\n",
        "cm_test_RFtrfusion_finetune= confusion_matrix(y_true_test,y_pred_test_fusion_finetune)\n",
        "fig_test_RFtrfusion_finetune=sns.heatmap(cm_test_RFtrfusion_finetune,\n",
        "                                         annot=True,center= 0, cmap= 'RdBu',fmt='g').set_title('CM_RFtree_Fusion_Finetune')"
      ],
      "execution_count": null,
      "outputs": [
        {
          "output_type": "display_data",
          "data": {
            "image/png": "[encoded data removed]",
            "text/plain": [
              "<Figure size 432x288 with 2 Axes>"
            ]
          },
          "metadata": {
            "needs_background": "light"
          }
        }
      ]
    }
  ]
}